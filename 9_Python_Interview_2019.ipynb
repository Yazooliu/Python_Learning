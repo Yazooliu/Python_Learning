{
 "cells": [
  {
   "cell_type": "markdown",
   "metadata": {},
   "source": [
    "题目来源：https://github.com/kenwoodjw/python_interview_question"
   ]
  },
  {
   "cell_type": "markdown",
   "metadata": {},
   "source": [
    "1.若有一个jsonline格式的文件file.txt，大小约为10K"
   ]
  },
  {
   "cell_type": "code",
   "execution_count": 108,
   "metadata": {},
   "outputs": [],
   "source": [
    "def ReadFilesFromLocal():\n",
    "    outputlist  = []\n",
    "    with open(\"./data/stopwords.txt\",'rb') as f1:\n",
    "        for line in f1:\n",
    "            outputlist.append(line)\n",
    "    return outputlist\n",
    "output = ReadFilesFromLocal()\n",
    "for line in output:\n",
    "    #print line\n",
    "    pass"
   ]
  },
  {
   "cell_type": "markdown",
   "metadata": {},
   "source": [
    "2 读取文件并加入jieba分词处理"
   ]
  },
  {
   "cell_type": "code",
   "execution_count": 102,
   "metadata": {},
   "outputs": [],
   "source": [
    "import jieba\n",
    "def ReadFile():\n",
    "    Readlist = []\n",
    "    with open(\"./data/stopwords.txt\",'rb') as f:\n",
    "        reading     = f.read()\n",
    "        jiebacu     = jieba.lcut(reading)\n",
    "        reading_cut = \" \".join(jiebacu)\n",
    "        reading_cut.encode(\"utf-8\")\n",
    "        Readlist.append(reading_cut)\n",
    "    return Readlist\n",
    "\n",
    "Readlist = ReadFile()\n",
    "for e in Readlist:\n",
    "    #print e\n",
    "    pass"
   ]
  },
  {
   "cell_type": "markdown",
   "metadata": {},
   "source": [
    "3.现在要处理一个大小为10G的file.txt文件，但是内存只有4G。如果在只修改get_lines 函数而其他代码保持不变的情况下，应该如何实现？需要考虑的问题都有那些？"
   ]
  },
  {
   "cell_type": "code",
   "execution_count": 183,
   "metadata": {},
   "outputs": [
    {
     "data": {
      "text/plain": [
       "<generator object ReadBigData at 0x000000000B687948>"
      ]
     },
     "execution_count": 183,
     "metadata": {},
     "output_type": "execute_result"
    }
   ],
   "source": [
    "def ReadBigData(N):\n",
    "    L = []\n",
    "    n = 0\n",
    "    while n <N:\n",
    "        n = n+1\n",
    "        with open(\"./data/stopwords.txt\",\"rb\") as f2:\n",
    "            L.append(f2.readlines(2))  # 批量读入文件\n",
    "            yield L # 生成器来批量载入数据，节省内存\n",
    "ReadBigData(3)     "
   ]
  },
  {
   "cell_type": "markdown",
   "metadata": {},
   "source": [
    "4,利用代码生成斐波那契數列 :除了第一个和第二个是0 和1 以外，其他数值都是前面两个数值的和"
   ]
  },
  {
   "cell_type": "code",
   "execution_count": 344,
   "metadata": {},
   "outputs": [
    {
     "data": {
      "text/plain": [
       "<generator object FeiBoNaQieArray at 0x000000000B62EF78>"
      ]
     },
     "execution_count": 344,
     "metadata": {},
     "output_type": "execute_result"
    }
   ],
   "source": [
    "def FeiBoNaQieArray(N):\n",
    "    n,a,b = 0,0,1\n",
    "    while n<N:\n",
    "        a,b = b,a + b\n",
    "        yield b\n",
    "        n = n + 1\n",
    "\n",
    "#L = FeiBoNaQieArray(12)\n",
    "#import numpy\n",
    "#Lsum = numpy.sum(L,axis=0) # 对所有数列求和\n",
    "Data = FeiBoNaQieArray(12)\n",
    "Data.next() # 生成器逐个输出"
   ]
  },
  {
   "cell_type": "markdown",
   "metadata": {},
   "source": [
    "5.简述read,readline,readlines的区别\n",
    "\n"
   ]
  },
  {
   "cell_type": "code",
   "execution_count": 188,
   "metadata": {},
   "outputs": [],
   "source": [
    "# read(size):从开始位置读取size大小的字节，如果read()，读取到文件最后\n",
    "# readline():每次读取一行数据,节省内存,适合大文件的读取\n",
    "# readlines(): 读取所有文本数据,存在一个list中，每个list元素存一行文本数据,比较占内存"
   ]
  },
  {
   "cell_type": "markdown",
   "metadata": {},
   "source": [
    "6.如何输入日期， 判断这一天是这一年的第几天？"
   ]
  },
  {
   "cell_type": "code",
   "execution_count": 210,
   "metadata": {},
   "outputs": [
    {
     "name": "stdout",
     "output_type": "stream",
     "text": [
      "6L6T5YWl5pyI5Lu9\n",
      "12\n",
      "6L6T5YWl5pel5pyf\n",
      "12\n"
     ]
    },
    {
     "data": {
      "text/plain": [
       "347"
      ]
     },
     "execution_count": 210,
     "metadata": {},
     "output_type": "execute_result"
    }
   ],
   "source": [
    "import datetime\n",
    "def CheckDate():\n",
    "    today_date  = datetime.date.today()\n",
    "    #year = input(\"输入年份:\")\n",
    "    year  = 2020\n",
    "    month = input(\"输入月份\")\n",
    "    day   = input(\"输入日期\")\n",
    "    date1 = datetime.date(year = int(year),month = int(month),day = int(day))\n",
    "    date2 = datetime.date(year = int(year),month = 1,day = 1)\n",
    "    return (date1 - date2).days + 1\n",
    "\n",
    "CheckDate()"
   ]
  },
  {
   "cell_type": "markdown",
   "metadata": {},
   "source": [
    "7.如何实现字符串的反转"
   ]
  },
  {
   "cell_type": "code",
   "execution_count": 214,
   "metadata": {},
   "outputs": [
    {
     "data": {
      "text/plain": [
       "'nohtyp ni gnirts eno si sihT'"
      ]
     },
     "execution_count": 214,
     "metadata": {},
     "output_type": "execute_result"
    }
   ],
   "source": [
    "\"This is one string in python\"[::-1]"
   ]
  },
  {
   "cell_type": "markdown",
   "metadata": {},
   "source": [
    "8.如何反转一个整数 -123->-321"
   ]
  },
  {
   "cell_type": "code",
   "execution_count": 222,
   "metadata": {},
   "outputs": [],
   "source": [
    "# only aviable in Python3.x, not success inpython2.x\n",
    "def reverback(x):\n",
    "    x = int(str(x)[::-1]) if x>= 0 else -int(str(-x)[::-1])\n",
    "    return x if x<= 2**31 -1  and x>-2**31 else 0"
   ]
  },
  {
   "cell_type": "markdown",
   "metadata": {},
   "source": [
    "9.lambda,map,filter 的使用"
   ]
  },
  {
   "cell_type": "code",
   "execution_count": 265,
   "metadata": {},
   "outputs": [
    {
     "name": "stdout",
     "output_type": "stream",
     "text": [
      "偶数\n"
     ]
    },
    {
     "data": {
      "text/plain": [
       "[0, 2, 4, 6, 8, 10]"
      ]
     },
     "execution_count": 265,
     "metadata": {},
     "output_type": "execute_result"
    }
   ],
   "source": [
    "lambdasum = lambda x,y:x+y\n",
    "f11 = lambda x:\"偶数\" if x%2==0 else \"奇数\"\n",
    "print f11(2)\n",
    "lambdasum(2.12,4.2)\n",
    "\n",
    "#map(function,sequence)\n",
    "map(lambda x:x**2,[y for y in range(4)])\n",
    "\n",
    "#filter\n",
    "filter(lambda x:x%2== 0,[y for y in range(12)])\n",
    "\n",
    "# for ....in... if \n",
    "list(x for x in range(12) if x%2==0)"
   ]
  },
  {
   "cell_type": "markdown",
   "metadata": {},
   "source": [
    "10.以下代码会报错吗？"
   ]
  },
  {
   "cell_type": "code",
   "execution_count": 279,
   "metadata": {},
   "outputs": [
    {
     "name": "stdout",
     "output_type": "stream",
     "text": [
      "[]\n"
     ]
    }
   ],
   "source": [
    "list = ['a','b','c','d','e']\n",
    "print(list[10:]) # 返回[]空\n",
    "#print(list[10]) # 报错"
   ]
  },
  {
   "cell_type": "markdown",
   "metadata": {},
   "source": [
    "11. 删除列表中的重复元素"
   ]
  },
  {
   "cell_type": "code",
   "execution_count": 281,
   "metadata": {},
   "outputs": [],
   "source": [
    "rawlist = ['b','c','d','c','a','a']\n",
    "seta = set(rawlist) # 通过结合set 去掉重复\n",
    "setalist = list(seta) # success in python 3.x"
   ]
  },
  {
   "cell_type": "markdown",
   "metadata": {},
   "source": [
    "11. 删除列表中的重复元素 - 请写出一段Python代码实现删除一个list里面的重复元素(3.9)"
   ]
  },
  {
   "cell_type": "code",
   "execution_count": 287,
   "metadata": {},
   "outputs": [
    {
     "name": "stdout",
     "output_type": "stream",
     "text": [
      "['b', 'c', 'd', 'a']\n"
     ]
    }
   ],
   "source": [
    "def RemoveDepulicateItem():\n",
    "    rawlist = ['b','c','d','c','a','a']\n",
    "    setalist = []\n",
    "    for i in rawlist:\n",
    "        if i not in setalist:\n",
    "            setalist.append(i)\n",
    "    print setalist  "
   ]
  },
  {
   "cell_type": "markdown",
   "metadata": {},
   "source": [
    "12.set() 函数创建一个无序不重复元素集，可进行关系测试，删除重复数据，还可以计算交集、差集、并集等。"
   ]
  },
  {
   "cell_type": "code",
   "execution_count": 285,
   "metadata": {},
   "outputs": [
    {
     "data": {
      "text/plain": [
       "{'B', 'G', 'a', 'd', 'e', 'g', 'i', 'l', 'o', 'u'}"
      ]
     },
     "execution_count": 285,
     "metadata": {},
     "output_type": "execute_result"
    }
   ],
   "source": [
    "set(\"Baidu\")&set(\"Google\")\n",
    "set(\"Baidu\")|set(\"Google\")"
   ]
  },
  {
   "cell_type": "markdown",
   "metadata": {},
   "source": [
    "13.设计实现遍历目录与子目录，抓取.pyc文件"
   ]
  },
  {
   "cell_type": "code",
   "execution_count": 318,
   "metadata": {},
   "outputs": [
    {
     "data": {
      "text/plain": [
       "['C:\\\\AI\\\\github\\\\Ai_Lab_\\\\TempCode\\\\sourcedata\\\\data\\\\Bag_of_Words_model.csv',\n",
       " 'C:\\\\AI\\\\github\\\\Ai_Lab_\\\\TempCode\\\\sourcedata\\\\data\\\\sampleSubmission.csv']"
      ]
     },
     "execution_count": 318,
     "metadata": {},
     "output_type": "execute_result"
    }
   ],
   "source": [
    "import os\n",
    "path = r'C:\\AI\\github\\Ai_Lab_\\TempCode\\sourcedata\\data'\n",
    "targetfile  =[]\n",
    "target_format = '.csv'\n",
    "for rootpath,dirs,files in os.walk(path): # rootpath - current path, files - all files in path \n",
    "    for file in files:\n",
    "        #print os.path.join(rootpath,filename)\n",
    "        file_name,file_format = os.path.splitext(file)\n",
    "        \n",
    "        if file_format == target_format:\n",
    "            targetfile.append(os.path.join(rootpath,file))\n",
    "\n",
    "targetfile"
   ]
  },
  {
   "cell_type": "markdown",
   "metadata": {},
   "source": [
    "14.对设计模式的理解，简述你了解的设计模式？"
   ]
  },
  {
   "cell_type": "code",
   "execution_count": null,
   "metadata": {},
   "outputs": [],
   "source": [
    "\"设计模式是为我们经常会碰到的一些编程问题构建的可重用解决方案，它是总结性和经优化的。\n",
    "\"一个设计模式并不像一个类或一个库那样能够直接作用于我们的代码，\n",
    "反之，设计模式更为高级，它是一种在特定情形下实现的方法模板。\n",
    "常见的是工厂模式和单例模式。\n",
    "单例模式应用的场景一般发现在以下条件下：\n",
    "资源共享的情况下，避免由于资源操作时导致的性能或损耗等，如日志文件，应用配置。\n",
    "\"控制资源的情况下，方便资源之间的互相通信\""
   ]
  },
  {
   "cell_type": "markdown",
   "metadata": {},
   "source": [
    "15.生成器和迭代器的区别"
   ]
  },
  {
   "cell_type": "code",
   "execution_count": null,
   "metadata": {},
   "outputs": [],
   "source": [
    "生成器:创建迭代器的工具，只在返回数据的时候才通过yield语句来生成，由于创建了iter和next方法，生成器显的简洁。\n",
    "生成器在处理列表是可以节省内存，兵器在生成器终结时才主动抛出异常\n",
    "迭代器:迭代器是一个更抽象的概念，任何对象，如果它的类有 next 方法和 iter 方法返回自己本身，它就是可迭代的。\n",
    "对于 string、list、dict、tuple 等这类容器对象，使用for循环遍历是很方便的，for 语句实际上会对容器对象调用 iter() 函数。\n",
    "iter() 会返回一个定义了 next() 方法的迭代器对象，它在容器中逐个访问容器内元素，在没有后续元素时，next()会抛出一个StopIteration异常。"
   ]
  },
  {
   "cell_type": "markdown",
   "metadata": {},
   "source": [
    "16.对装饰器的理解，你能写出一个计时器装饰器，它能记录函数的执行时间吗？"
   ]
  },
  {
   "cell_type": "code",
   "execution_count": 360,
   "metadata": {},
   "outputs": [
    {
     "name": "stdout",
     "output_type": "stream",
     "text": [
      "生成斐波纳挈数列的...\n",
      "运行时间: 12.0859999657 secs\n"
     ]
    }
   ],
   "source": [
    "def NewFeiBoNaQieArray(Max):\n",
    "    a,b,n = 0,1,0\n",
    "    while n<Max:\n",
    "        a,b = b,a + b\n",
    "        n = n + 1\n",
    "    return b\n",
    "\n",
    "import time\n",
    "def timeit(func):\n",
    "    def InnerFuncton(*args,**kwargs):\n",
    "        start = time.time()\n",
    "        func(*args,**kwargs) # 适应多种函数 - 先执行TimeImplement,再执行InnerFuncton\n",
    "        end   = time.time()\n",
    "        print \"运行时间:\", end - start ,\"secs\"\n",
    "    return InnerFuncton\n",
    "\n",
    "@timeit\n",
    "def TimeImplement():\n",
    "    NewFeiBoNaQieArray(1e6)\n",
    "    print \"生成斐波纳挈数列的...\"\n",
    "\n",
    "TimeImplement()"
   ]
  },
  {
   "cell_type": "markdown",
   "metadata": {},
   "source": [
    "17.程序运行在操作系统上的一个实例，就称之为进程。进程需要相应的系统资源：内存、时间片、pid。\n",
    "创建进程： 首先要导入multiprocessing中的Process；创建一个Process对象；创建Process对象时，可以传递参数"
   ]
  },
  {
   "cell_type": "code",
   "execution_count": 379,
   "metadata": {},
   "outputs": [],
   "source": [
    "import os \n",
    "from multiprocessing import Process\n",
    "import time\n",
    "# __init__(self, group=None, target=None, name=None, args=(), kwargs={})\n",
    "def func(name,age,**kwargs):\n",
    "    for i in range(5):\n",
    "        print(\"子进程正在运行中，name=%s,age=%d,pid=%d\" %(name, age, os.getpid()))\n",
    "        print(kwargs)\n",
    "        time.sleep(0.2)\n",
    "\n",
    "if __name__ == \"__main__\":\n",
    "    p = Process(target = func,name =None,args = (\"Name\",19), kwargs = {\"M\":29})\n",
    "    p.start()\n",
    "    time.sleep(1)\n",
    "    p.terminate\n",
    "    p.join()"
   ]
  },
  {
   "cell_type": "markdown",
   "metadata": {},
   "source": [
    "18.python 常见的列表推导式"
   ]
  },
  {
   "cell_type": "code",
   "execution_count": 393,
   "metadata": {},
   "outputs": [
    {
     "data": {
      "text/plain": [
       "[0, 1, 4, 16, 25, 36, 49, 64, 81]"
      ]
     },
     "execution_count": 393,
     "metadata": {},
     "output_type": "execute_result"
    }
   ],
   "source": [
    "# 1. for....in....if \n",
    "x = [x**2 for x in range(10) if x%2 == 0] # 列表推导式\n",
    "\n",
    "def squre2(x):\n",
    "    return x**2\n",
    "y = [squre2(y) for y in range(10) if y>=0 and y!=3 ]\n",
    "y\n",
    "\n",
    "[(x,y) for x in range(10) if  x !=2 for y in range(10) if y%2 == 0]"
   ]
  },
  {
   "cell_type": "markdown",
   "metadata": {},
   "source": [
    "19.python 常见的生成器推导式"
   ]
  },
  {
   "cell_type": "code",
   "execution_count": 405,
   "metadata": {},
   "outputs": [
    {
     "name": "stdout",
     "output_type": "stream",
     "text": [
      "<type 'generator'>\n"
     ]
    }
   ],
   "source": [
    "multi = (x for x in range(10) if x%2 == 0)\n",
    "print type(multi)\n",
    "# 遍历生成器序列\n",
    "for i in multi:\n",
    "    #print(i)\n",
    "    pass"
   ]
  },
  {
   "cell_type": "markdown",
   "metadata": {},
   "source": [
    "20.python 字典推导式"
   ]
  },
  {
   "cell_type": "code",
   "execution_count": 488,
   "metadata": {},
   "outputs": [],
   "source": [
    "multi = {x for x in range(10) if x%2 == 0}"
   ]
  },
  {
   "cell_type": "markdown",
   "metadata": {},
   "source": [
    "21.python 集合推导式"
   ]
  },
  {
   "cell_type": "code",
   "execution_count": 410,
   "metadata": {},
   "outputs": [],
   "source": [
    "multi = (x for x in range(10) if x%2 == 0)"
   ]
  },
  {
   "cell_type": "markdown",
   "metadata": {},
   "source": [
    "22.写一个列表生成式，产生一个公差为11的等差数列"
   ]
  },
  {
   "cell_type": "code",
   "execution_count": 411,
   "metadata": {},
   "outputs": [],
   "source": [
    "a0 = 1\n",
    "d  = 11\n",
    "an = [a0+(n-1)*d for n in range(100)]"
   ]
  },
  {
   "cell_type": "markdown",
   "metadata": {},
   "source": [
    "23.给定两个列表，怎么找出他们相同的元素和不同的元素?"
   ]
  },
  {
   "cell_type": "code",
   "execution_count": 452,
   "metadata": {},
   "outputs": [
    {
     "data": {
      "text/plain": [
       "['c', '3', '2', 's']"
      ]
     },
     "execution_count": 452,
     "metadata": {},
     "output_type": "execute_result"
    }
   ],
   "source": [
    "list1 = ['a','c','d','3','2','w','s']\n",
    "list2 = ['c','3','9','k','2','s']\n",
    "same = [x for x in list1 if x in list2]\n",
    "same"
   ]
  },
  {
   "cell_type": "code",
   "execution_count": 446,
   "metadata": {},
   "outputs": [
    {
     "data": {
      "text/plain": [
       "['a', 'd', 'w']"
      ]
     },
     "execution_count": 446,
     "metadata": {},
     "output_type": "execute_result"
    }
   ],
   "source": [
    "diff1= [x for x in list1 if x not in list2]\n",
    "diff1"
   ]
  },
  {
   "cell_type": "code",
   "execution_count": 503,
   "metadata": {},
   "outputs": [],
   "source": [
    "diff2= [x for x in list2 if x not in list1]"
   ]
  },
  {
   "cell_type": "markdown",
   "metadata": {},
   "source": [
    "24.打乱一个排好序的list对象 alist？"
   ]
  },
  {
   "cell_type": "code",
   "execution_count": 469,
   "metadata": {},
   "outputs": [
    {
     "data": {
      "text/plain": [
       "[55, 85, 50, 20, 80, 75, 95, 30, 90, 0, 10, 15, 45, 70, 5, 25, 65, 40, 60, 35]"
      ]
     },
     "execution_count": 469,
     "metadata": {},
     "output_type": "execute_result"
    }
   ],
   "source": [
    "import random\n",
    "listorder = [x for x in range(100) if x%5==0]\n",
    "random.shuffle(listorder)\n",
    "listorder"
   ]
  },
  {
   "cell_type": "code",
   "execution_count": 476,
   "metadata": {},
   "outputs": [
    {
     "data": {
      "text/plain": [
       "[95, 90, 85, 80, 75, 70, 65, 60, 55, 50, 45, 40, 35, 30, 25, 20, 15, 10, 5, 0]"
      ]
     },
     "execution_count": 476,
     "metadata": {},
     "output_type": "execute_result"
    }
   ],
   "source": [
    "sorted(listorder,reverse=True)"
   ]
  },
  {
   "cell_type": "markdown",
   "metadata": {},
   "source": [
    "25.现有字典 d={‘a’:24，‘g’:52，‘i’:12，‘k’:33}请按value值进行排序"
   ]
  },
  {
   "cell_type": "code",
   "execution_count": 497,
   "metadata": {},
   "outputs": [
    {
     "data": {
      "text/plain": [
       "[('i', 12), ('a', 24), ('k', 33), ('g', 52)]"
      ]
     },
     "execution_count": 497,
     "metadata": {},
     "output_type": "execute_result"
    }
   ],
   "source": [
    "d   = {'a':24,'g':52,'i':12,'k':33}\n",
    "sorted(d.items(),key = lambda x:x[1])"
   ]
  },
  {
   "cell_type": "markdown",
   "metadata": {},
   "source": [
    "26.一行代码实现1-100之和"
   ]
  },
  {
   "cell_type": "code",
   "execution_count": 498,
   "metadata": {},
   "outputs": [
    {
     "data": {
      "text/plain": [
       "4950"
      ]
     },
     "execution_count": 498,
     "metadata": {},
     "output_type": "execute_result"
    }
   ],
   "source": [
    "sum([x for x in range(100)])"
   ]
  },
  {
   "cell_type": "markdown",
   "metadata": {},
   "source": [
    "27.将字符串\"k:1|k1:2|k2:3|k3:4\"，处理成字典：{k:1， k1:2， ..."
   ]
  },
  {
   "cell_type": "code",
   "execution_count": 502,
   "metadata": {},
   "outputs": [
    {
     "data": {
      "text/plain": [
       "{'k': '1', 'k1': '2', 'k2': '3', 'k3': '4'}"
      ]
     },
     "execution_count": 502,
     "metadata": {},
     "output_type": "execute_result"
    }
   ],
   "source": [
    "str1 = \"k:1|k1:2|k2:3|k3:4\"\n",
    "def str2dict(str):\n",
    "    newdict = {}\n",
    "    items = str.split('|')\n",
    "    for item in items:\n",
    "        key,values =item.split(':')\n",
    "        newdict[key] = values\n",
    "    return newdict\n",
    "str2dict(str1)"
   ]
  },
  {
   "cell_type": "markdown",
   "metadata": {},
   "source": [
    "28.给定两个list A ,B，请用找出 A ,B中相同与不同的元素"
   ]
  },
  {
   "cell_type": "code",
   "execution_count": 7,
   "metadata": {},
   "outputs": [],
   "source": [
    "listA =  ['a','c','d','2']\n",
    "listB =  ['2','e','f','d','j','o']\n",
    "setA  = set(listA)\n",
    "setB  = set(listB)\n",
    "SameItemInAandB  = setA&setB  # 求交集\n",
    "DiffItemInAandB  = setA^setB  # 在A或B中，但是不会同时出现在A和B中"
   ]
  },
  {
   "cell_type": "code",
   "execution_count": 6,
   "metadata": {},
   "outputs": [
    {
     "data": {
      "text/plain": [
       "{'2', 'd'}"
      ]
     },
     "execution_count": 6,
     "metadata": {},
     "output_type": "execute_result"
    }
   ],
   "source": [
    "SameItemInAandB "
   ]
  },
  {
   "cell_type": "code",
   "execution_count": 8,
   "metadata": {},
   "outputs": [
    {
     "data": {
      "text/plain": [
       "{'a', 'c', 'e', 'f', 'j', 'o'}"
      ]
     },
     "execution_count": 8,
     "metadata": {},
     "output_type": "execute_result"
    }
   ],
   "source": [
    "DiffItemInAandB"
   ]
  },
  {
   "cell_type": "code",
   "execution_count": 9,
   "metadata": {},
   "outputs": [
    {
     "data": {
      "text/plain": [
       "{'a', 'c'}"
      ]
     },
     "execution_count": 9,
     "metadata": {},
     "output_type": "execute_result"
    }
   ],
   "source": [
    "setA - setB # 结合求减法"
   ]
  },
  {
   "cell_type": "markdown",
   "metadata": {},
   "source": [
    "29.请按alist中元素的age由大到小排序"
   ]
  },
  {
   "cell_type": "code",
   "execution_count": 14,
   "metadata": {},
   "outputs": [
    {
     "data": {
      "text/plain": [
       "[{'age': 30, 'name': 'b'}, {'age': 25, 'name': 'c'}, {'age': 20, 'name': 'a'}]"
      ]
     },
     "execution_count": 14,
     "metadata": {},
     "output_type": "execute_result"
    }
   ],
   "source": [
    "alist = [{'name':'a','age':20},{'name':'b','age':30},{'name':'c','age':25}]\n",
    "sorted(alist,key = lambda x:x['age'],reverse = True)"
   ]
  },
  {
   "cell_type": "markdown",
   "metadata": {},
   "source": [
    "### 4 企业面试题目"
   ]
  },
  {
   "cell_type": "markdown",
   "metadata": {},
   "source": [
    "30.Python新式类和经典类的区别"
   ]
  },
  {
   "cell_type": "code",
   "execution_count": null,
   "metadata": {},
   "outputs": [],
   "source": [
    "\"新式类：是用来继承object类\"\n",
    "\"经典列:没有继承objec类\""
   ]
  },
  {
   "cell_type": "markdown",
   "metadata": {},
   "source": [
    "31.python中内置的数据结构有几种"
   ]
  },
  {
   "cell_type": "code",
   "execution_count": null,
   "metadata": {},
   "outputs": [],
   "source": [
    "\"set/list/dict/tuple/生成器/迭代器/\""
   ]
  },
  {
   "cell_type": "markdown",
   "metadata": {},
   "source": [
    "32.生成[M,N]之间不重复随机数"
   ]
  },
  {
   "cell_type": "code",
   "execution_count": 4,
   "metadata": {},
   "outputs": [
    {
     "data": {
      "text/plain": [
       "[9, 2, 5, 7]"
      ]
     },
     "execution_count": 4,
     "metadata": {},
     "output_type": "execute_result"
    }
   ],
   "source": [
    "import random\n",
    "random.sample(range(0,12),4)"
   ]
  },
  {
   "cell_type": "markdown",
   "metadata": {},
   "source": [
    "33.Python如何实现单例模式？请写出两种实现方法 - 单例模式指的是类只有一个实例"
   ]
  },
  {
   "cell_type": "code",
   "execution_count": 64,
   "metadata": {},
   "outputs": [
    {
     "name": "stdout",
     "output_type": "stream",
     "text": [
      "True\n"
     ]
    }
   ],
   "source": [
    "#1 通过装饰器来实现\n",
    "def Singleton(cls):\n",
    "    _instance = {}\n",
    "    def _Singleton(*args,**kwargs):\n",
    "        if cls not in _instance:\n",
    "            _instance[cls] = cls(*args,**kwargs)\n",
    "        return _instance[cls]\n",
    "    return _Singleton\n",
    "\n",
    "def single(cls):\n",
    "    def isedd():\n",
    "        pass\n",
    "    return isedd\n",
    "\n",
    "@Singleton\n",
    "class A(object):\n",
    "    def a1(a):\n",
    "        return a   \n",
    "\n",
    "b1 = A()\n",
    "b2 = A()\n",
    "print b1 is b2  # 同一个列的实例化"
   ]
  },
  {
   "cell_type": "code",
   "execution_count": 72,
   "metadata": {},
   "outputs": [
    {
     "name": "stdout",
     "output_type": "stream",
     "text": [
      "True\n"
     ]
    }
   ],
   "source": [
    "#2 使用基类New 是正在创建实例对象的方法，所以重写\n",
    "class Singleton(object):\n",
    "    def __new__(cls,*args,**kwargs):\n",
    "        if not hasattr(cls,'_instance'):\n",
    "            cls._instance = super(Singleton,cls).__new__(cls,*args,**kwargs)\n",
    "        return cls._instance\n",
    "    \n",
    "class Foo(Singleton):\n",
    "    pass\n",
    "\n",
    "foo1 = Foo()\n",
    "foo2 = Foo()\n",
    "print foo1 is foo2"
   ]
  },
  {
   "cell_type": "markdown",
   "metadata": {},
   "source": [
    "34.如何从一个包(folder)中导入模块(.py)中的方法"
   ]
  },
  {
   "cell_type": "code",
   "execution_count": null,
   "metadata": {},
   "outputs": [],
   "source": [
    "from a.mysingleton import functionInPy \n",
    "# a 是一个文件夹名字(含有__Init__.py) # mysingleton is mysingleton.py\n",
    "# functionInPy is function in mysingleton.py"
   ]
  },
  {
   "cell_type": "markdown",
   "metadata": {},
   "source": [
    "35.反转一个整数，例如-123 --> -321"
   ]
  },
  {
   "cell_type": "code",
   "execution_count": 84,
   "metadata": {},
   "outputs": [
    {
     "data": {
      "text/plain": [
       "-321"
      ]
     },
     "execution_count": 84,
     "metadata": {},
     "output_type": "execute_result"
    }
   ],
   "source": [
    "#-int(str(123)[::-1])\n",
    "x = -123\n",
    "x = int(str(x)[::-1]) if x>=0 else -int(str(-x)[::-1])\n",
    "x"
   ]
  },
  {
   "cell_type": "markdown",
   "metadata": {},
   "source": [
    "36..Python-遍历列表时删除元素的正确做法"
   ]
  },
  {
   "cell_type": "code",
   "execution_count": 242,
   "metadata": {},
   "outputs": [
    {
     "data": {
      "text/plain": [
       "[4, 4, 12, 4, 5, 6]"
      ]
     },
     "execution_count": 242,
     "metadata": {},
     "output_type": "execute_result"
    }
   ],
   "source": [
    "Alist = [3,3,2,4,4,12,2,2,1,2,3,4,5,6] # 删除[1,2,3]\n",
    "for i in Alist[::1]:\n",
    "    if i in [1,2,3]:\n",
    "        Alist.remove(i)\n",
    "Alist"
   ]
  },
  {
   "cell_type": "code",
   "execution_count": 244,
   "metadata": {},
   "outputs": [
    {
     "data": {
      "text/plain": [
       "[4, 4, 12, 4, 5, 6]"
      ]
     },
     "execution_count": 244,
     "metadata": {},
     "output_type": "execute_result"
    }
   ],
   "source": [
    "Alist = [3,3,2,4,4,12,2,2,1,2,3,4,5,6] # 删除[1,2,3]\n",
    "newlist  = []\n",
    "for i in Alist[::1]:\n",
    "    if i not in [1,2,3]:\n",
    "        newlist.append(i)\n",
    "newlist"
   ]
  },
  {
   "cell_type": "markdown",
   "metadata": {},
   "source": [
    "37.filter 函数的使用"
   ]
  },
  {
   "cell_type": "code",
   "execution_count": 255,
   "metadata": {},
   "outputs": [
    {
     "data": {
      "text/plain": [
       "[0, 4, 8]"
      ]
     },
     "execution_count": 255,
     "metadata": {},
     "output_type": "execute_result"
    }
   ],
   "source": [
    "filter(lambda x: x%4 == 0,[x for x in range(10) if x%2 == 0]) # "
   ]
  },
  {
   "cell_type": "markdown",
   "metadata": {},
   "source": [
    "38.可变类型和不可变类型"
   ]
  },
  {
   "cell_type": "code",
   "execution_count": null,
   "metadata": {},
   "outputs": [],
   "source": [
    "\"可变与不可变主要指的是内存中的那段地址变不变。当操作不可变对象时,需要重新申请一块新的地址，因为老的区域不可变\"\n",
    "\"当操作可变对象时，其内存地址不变，但是会在后面的地址伸长\"\n",
    "\"可以使用id()来确认类型的变化\"\n",
    "\"不可变对象的好处: 当将不可变对象传给我们位置的API函数，可以避免对象被改变\"\n",
    "\"可变对象:可以通过list将函数返回的元组转成一个可变的函数类型，list 与元组的区别\"\n",
    "\"可变的类型有 list, dict,集合; 不可变的对象：元组，字符串，bool,digit,\""
   ]
  },
  {
   "cell_type": "markdown",
   "metadata": {},
   "source": [
    "39.求出列表所有奇数并构造新列表"
   ]
  },
  {
   "cell_type": "code",
   "execution_count": 259,
   "metadata": {},
   "outputs": [],
   "source": [
    "Rawlist = [x for x in range(100)]\n",
    "Newlist = [y for y in Rawlist if y%2 == 1]"
   ]
  },
  {
   "cell_type": "markdown",
   "metadata": {},
   "source": [
    "40.is和==有什么区别？"
   ]
  },
  {
   "cell_type": "code",
   "execution_count": null,
   "metadata": {},
   "outputs": [],
   "source": [
    "\"is 是身份运算符，比较两个对象是不是来之同一个 内存地址id ..,是不是同一个对象\"\n",
    "\"比较两个对象是不是赋值内容相等\""
   ]
  },
  {
   "cell_type": "markdown",
   "metadata": {},
   "source": [
    "41.用一行python代码写出1+2+3+......10**8"
   ]
  },
  {
   "cell_type": "code",
   "execution_count": 260,
   "metadata": {},
   "outputs": [
    {
     "data": {
      "text/plain": [
       "3160"
      ]
     },
     "execution_count": 260,
     "metadata": {},
     "output_type": "execute_result"
    }
   ],
   "source": [
    "sum([x for x in range(10*8)])"
   ]
  },
  {
   "cell_type": "code",
   "execution_count": 36,
   "metadata": {},
   "outputs": [
    {
     "data": {
      "text/plain": [
       "3160"
      ]
     },
     "execution_count": 36,
     "metadata": {},
     "output_type": "execute_result"
    }
   ],
   "source": [
    "reduce(lambda x,y:x+y,range(1,10*8))"
   ]
  },
  {
   "cell_type": "markdown",
   "metadata": {},
   "source": [
    "42.reduce 函数的使用将  \"1234\" ->转换成数字1234"
   ]
  },
  {
   "cell_type": "code",
   "execution_count": 276,
   "metadata": {},
   "outputs": [
    {
     "data": {
      "text/plain": [
       "1234"
      ]
     },
     "execution_count": 276,
     "metadata": {},
     "output_type": "execute_result"
    }
   ],
   "source": [
    "def char2num(s):\n",
    "    return {'0':0,'1':1,'2':2,'3':3,'4':4,'5':5,'6':6,'7':7,'8':8,'9':9}[s]\n",
    "def num2Dig(x,y):\n",
    "    return 10*x + y\n",
    "\n",
    "reduce(num2Dig,map(char2num,'1234') )"
   ]
  },
  {
   "cell_type": "markdown",
   "metadata": {},
   "source": [
    "43..Python中变量的作用域？（变量查找顺序)"
   ]
  },
  {
   "cell_type": "code",
   "execution_count": null,
   "metadata": {},
   "outputs": [],
   "source": [
    "\"python 按照LEGB顺序查找 -> 首先,Local 局部查找; 其次Enclosing 在函数嵌套之间查找;然后,Global全局查找；\n",
    "\"最后是build in 内置函数的查找\""
   ]
  },
  {
   "cell_type": "markdown",
   "metadata": {},
   "source": [
    "44.字符串”123″转换成123，不使用内置api，例如int（）"
   ]
  },
  {
   "cell_type": "code",
   "execution_count": 279,
   "metadata": {},
   "outputs": [
    {
     "data": {
      "text/plain": [
       "123"
      ]
     },
     "execution_count": 279,
     "metadata": {},
     "output_type": "execute_result"
    }
   ],
   "source": [
    "def str2num(s):\n",
    "    return {\"0\":0,\"1\":1,\"2\":2,\"3\":3,\"4\":4,\"5\":5,\"6\":6,\"7\":7,\"8\":8,\"9\":9}[s]\n",
    "\n",
    "def num2Dig(x,y):\n",
    "    return x*10 + y\n",
    "reduce(num2Dig,map(str2num,\"123\"))"
   ]
  },
  {
   "cell_type": "markdown",
   "metadata": {},
   "source": [
    "45.统计一个文本中单词频次最高的10个单词？"
   ]
  },
  {
   "cell_type": "code",
   "execution_count": null,
   "metadata": {},
   "outputs": [],
   "source": [
    "def ReadTextFromFile():\n",
    "    with open(\"./data/data.txt\",'rb') as f:\n",
    "        document = f.read()\n",
    "    return document"
   ]
  },
  {
   "cell_type": "code",
   "execution_count": 172,
   "metadata": {},
   "outputs": [
    {
     "name": "stdout",
     "output_type": "stream",
     "text": [
      "词频统计数量前十的词是：\n",
      "Python\n",
      "你好\n",
      "我们\n",
      "baidu\n",
      "HelloWord\n",
      "Java\n",
      "C++\n"
     ]
    }
   ],
   "source": [
    "\n",
    "def StaticWordsFre(words):  \n",
    "    StaticWordsFreDict = {} # 通过一个字典来存储统计词名：词频\n",
    "    for word in words:\n",
    "        if word in StaticWordsFreDict:\n",
    "            StaticWordsFreDict[word]+= 1\n",
    "        else:\n",
    "            StaticWordsFreDict[word] = 1\n",
    "    return StaticWordsFreDict\n",
    "\n",
    "def FindMostFreWords(Dict):\n",
    "    SortedList = sorted(Dict.items(), key = lambda x:x[1],reverse = True)\n",
    "    print \"词频统计数量前十的词是：\"\n",
    "    for i in SortedList[0:10]:\n",
    "        print i[0]\n",
    "words = [\"我们\",\"你好\",\"我们\",\n",
    "         \"你好\",\"我们\",\"你好\",\n",
    "         \"我们\",\"你好\",\"我们\",\"你好\",\n",
    "         \"我们\",\"你好\",\"我们\",\"你好\",\n",
    "        \"HelloWord\",\"Python\",\"baidu\",\"C++\",\"Python\",\"Python\",\"Java\",\n",
    "        \"HelloWord\",\"Python\",\"baidu\",\"C++\",\"Python\",\"Python\",\"Java\",\n",
    "        \"Python\",\"Python\",\"Python\",\"Python\",\"Python\",\"Python\",\"Python\",\"Python\"]\n",
    "\n",
    "FindMostFreWords(StaticWordsFre(words))"
   ]
  },
  {
   "cell_type": "code",
   "execution_count": 167,
   "metadata": {},
   "outputs": [
    {
     "name": "stdout",
     "output_type": "stream",
     "text": [
      "sdw\n",
      "se\n",
      "s\n"
     ]
    }
   ],
   "source": [
    "Dict = {\"s\":2,\"se\":4,\"sdw\":9}\n",
    "#按照词频来排序\n",
    "ListSorted = sorted(Dict.items(),key = lambda x:x[1],reverse = True)\n",
    "for i in ListSorted:\n",
    "    print i[0]"
   ]
  },
  {
   "cell_type": "markdown",
   "metadata": {},
   "source": [
    "46.用一行代码生成[1,4,9,16,25,36,49,64,81,100]"
   ]
  },
  {
   "cell_type": "code",
   "execution_count": 285,
   "metadata": {},
   "outputs": [
    {
     "data": {
      "text/plain": [
       "[1, 4, 9, 16, 25, 36, 49, 64, 81, 100]"
      ]
     },
     "execution_count": 285,
     "metadata": {},
     "output_type": "execute_result"
    }
   ],
   "source": [
    "[x**2 for x in range(1,11)]"
   ]
  },
  {
   "cell_type": "code",
   "execution_count": 286,
   "metadata": {},
   "outputs": [
    {
     "data": {
      "text/plain": [
       "[1, 4, 9, 16, 25, 36, 49, 64, 81, 100]"
      ]
     },
     "execution_count": 286,
     "metadata": {},
     "output_type": "execute_result"
    }
   ],
   "source": [
    "map(lambda x:x**2, [x for x in range(1,11)])"
   ]
  },
  {
   "cell_type": "markdown",
   "metadata": {},
   "source": [
    "47.什么是Hash（散列函数）？"
   ]
  },
  {
   "cell_type": "code",
   "execution_count": null,
   "metadata": {},
   "outputs": [],
   "source": [
    "\"散列函数是用于从数据中创建下的数字指纹的方法\"\n",
    "\"Python 调用内部的散列函数，将键（Key）作为参数进行转换，得到一个唯一的地址\"\n",
    "\"然后将值（Value）存放到该地址中。 \n",
    "\"对于 Python 来说，键（Key）必须是可哈希的，换句话说就是要可以通过散列函数计算出唯一地址的\"\n",
    "\"那如果拿一个变量当键（Key）可以吗？肯定不行。因为变量随时都可能改变，不符合可哈希原则！\"\n",
    "\"Python 的哈希算法对相同的值计算得到的结果是一样的，也就是说 12315 和 12315.0 的值相同，他们被认为是相同的键（Key）\""
   ]
  },
  {
   "cell_type": "markdown",
   "metadata": {},
   "source": [
    "48.两个有序列表，l1,l2，对这两个列表进行合并不可使用extend"
   ]
  },
  {
   "cell_type": "code",
   "execution_count": 301,
   "metadata": {},
   "outputs": [],
   "source": [
    "L1 = ['s',2,2,'d']\n",
    "L2 = [\"sd\",2.9,'q']\n",
    "for i in L2:\n",
    "    L1.append(i)"
   ]
  },
  {
   "cell_type": "code",
   "execution_count": 313,
   "metadata": {},
   "outputs": [
    {
     "data": {
      "text/plain": [
       "[2, 2, 2.9, '72', 'Python', 'dwss', 'q', 's', 'sd']"
      ]
     },
     "execution_count": 313,
     "metadata": {},
     "output_type": "execute_result"
    }
   ],
   "source": [
    "L1 = ['s',2,2,'72','dwss']\n",
    "L2 = [\"sd\",2.9,'q','Python']\n",
    "map(lambda i:L1.append(i), L2)\n",
    "# sorted(L1) - >排序"
   ]
  },
  {
   "cell_type": "markdown",
   "metadata": {},
   "source": [
    "49.写一个函数找出一个整数数组中，第二大的数"
   ]
  },
  {
   "cell_type": "code",
   "execution_count": 11,
   "metadata": {},
   "outputs": [
    {
     "data": {
      "text/plain": [
       "87"
      ]
     },
     "execution_count": 11,
     "metadata": {},
     "output_type": "execute_result"
    }
   ],
   "source": [
    "def Find2ndMax(array):\n",
    "    arraysort= sorted(array,reverse = True)\n",
    "    The2Max  = arraysort[1]\n",
    "    return The2Max\n",
    "array = [12,2,2,0,2,87,12,27,218,2]\n",
    "Find2ndMax(array)"
   ]
  },
  {
   "cell_type": "code",
   "execution_count": 19,
   "metadata": {},
   "outputs": [
    {
     "data": {
      "text/plain": [
       "(2282827, 898282)"
      ]
     },
     "execution_count": 19,
     "metadata": {},
     "output_type": "execute_result"
    }
   ],
   "source": [
    "def Find2ndMax1(array):\n",
    "    First = array[0]\n",
    "    Second = array[0]\n",
    "    for i in range(1,len(array)):\n",
    "        if array[i]>First:\n",
    "            Second = First    # 找到最大的之前，将上一个最大值保存下来，就是第二大的值\n",
    "            First  = array[i] # 找到最大的值：\n",
    "        #elif array[i]>Second:\n",
    "         #   Second = array[i]\n",
    "        #else:\n",
    "            #pass\n",
    "    return First,Second\n",
    "array1 = [12,2,2,0,2,87,12,27,218,12,898282,2282827,2]\n",
    "Find2ndMax1(array1)"
   ]
  },
  {
   "cell_type": "markdown",
   "metadata": {},
   "source": [
    "50.统计一段字符串中字符出现的次数"
   ]
  },
  {
   "cell_type": "code",
   "execution_count": 3,
   "metadata": {},
   "outputs": [
    {
     "data": {
      "text/plain": [
       "55574529"
      ]
     },
     "execution_count": 3,
     "metadata": {},
     "output_type": "execute_result"
    }
   ],
   "source": [
    "str = \"dsjeoACBDDMMDLSOKSDSMMDSNDOKJHSOWLLShslsowjjsgdsaaldso\"\n",
    "import random\n",
    "for i in range(0,20):\n",
    "    str += str[0:len(str)-1]\n",
    "len(str)"
   ]
  },
  {
   "cell_type": "code",
   "execution_count": 20,
   "metadata": {},
   "outputs": [
    {
     "name": "stdout",
     "output_type": "stream",
     "text": [
      "Wall time: 14.1 s\n"
     ]
    }
   ],
   "source": [
    "def findstrfrequency(str):\n",
    "    dic1 = {}\n",
    "    n = 1\n",
    "    i = 0\n",
    "    while i<len(str):\n",
    "        if str[i] in dic1:\n",
    "            dic1[str[i]] += 1\n",
    "        else:\n",
    "            dic1[str[i]]  = 1\n",
    "        i +=1\n",
    "    #return dic1\n",
    "import time \n",
    "%time findstrfrequency(str)"
   ]
  },
  {
   "cell_type": "code",
   "execution_count": 5,
   "metadata": {},
   "outputs": [
    {
     "name": "stdout",
     "output_type": "stream",
     "text": [
      "Wall time: 12.7 s\n"
     ]
    }
   ],
   "source": [
    "def Findstringfrequency(str):\n",
    "    dict1 = {}\n",
    "    for i in str:\n",
    "        dict1[i] = 0\n",
    "    for i in str:\n",
    "        if i in dict1:\n",
    "            dict1[i] +=1\n",
    "    #return dict1\n",
    "%time Findstringfrequency(str)"
   ]
  },
  {
   "cell_type": "markdown",
   "metadata": {},
   "source": [
    "51.super函数的具体用法和场景"
   ]
  },
  {
   "cell_type": "code",
   "execution_count": null,
   "metadata": {},
   "outputs": [],
   "source": [
    "super() 函数是用于调用父类(超类)的一个方法。\n",
    "super 是用来解决多重继承问题的，直接用类名调用父类方法在使用单继承的时候没问题，\n",
    "但是如果使用多继承，会涉及到查找顺序（MRO）、重复调用（钻石继承）等种种问题。\n",
    "MRO 就是类的方法解析顺序表, 其实也就是继承父类方法时的顺序表。"
   ]
  },
  {
   "cell_type": "markdown",
   "metadata": {},
   "source": [
    "52.手写一个判断时间的装饰器"
   ]
  },
  {
   "cell_type": "code",
   "execution_count": 144,
   "metadata": {},
   "outputs": [
    {
     "name": "stdout",
     "output_type": "stream",
     "text": [
      "Start Checking Time ....\n",
      "当前时刻是: 13:28:50\n",
      "当前时刻不是零点\n"
     ]
    }
   ],
   "source": [
    "def TimeChecking(func):\n",
    "    def Checking():\n",
    "        print \"Start Checking Time ....\"\n",
    "        func()\n",
    "    return Checking\n",
    "\n",
    "@TimeChecking\n",
    "def Time():\n",
    "    import time \n",
    "    local_time = time.strftime(\"%H:%M:%S\",time.localtime() )\n",
    "    print \"当前时刻是:\", local_time\n",
    "    Times = []\n",
    "    for time in local_time.split(\":\"):\n",
    "        Times.append(time)\n",
    "        strTime = \"\".join(Times)\n",
    "    if strTime == \"000000\":\n",
    "        print \"当前时刻是零点\"\n",
    "    else:\n",
    "        print \"当前时刻不是零点\"\n",
    "    #return Times,strTime\n",
    "Time()"
   ]
  },
  {
   "cell_type": "code",
   "execution_count": 112,
   "metadata": {},
   "outputs": [
    {
     "data": {
      "text/plain": [
       "'2019-03-08: 13:11:03'"
      ]
     },
     "execution_count": 112,
     "metadata": {},
     "output_type": "execute_result"
    }
   ],
   "source": [
    "time.strftime(\"%Y-%m-%d: %H:%M:%S\", time.localtime( ))"
   ]
  },
  {
   "cell_type": "code",
   "execution_count": 116,
   "metadata": {},
   "outputs": [
    {
     "data": {
      "text/plain": [
       "'13:13:11'"
      ]
     },
     "execution_count": 116,
     "metadata": {},
     "output_type": "execute_result"
    }
   ],
   "source": [
    "local_time = time.strftime(\"%H:%M:%S\",time.localtime() )\n",
    "local_time"
   ]
  },
  {
   "cell_type": "code",
   "execution_count": 113,
   "metadata": {},
   "outputs": [
    {
     "data": {
      "text/plain": [
       "datetime.time(13, 12, 15, 245000)"
      ]
     },
     "execution_count": 113,
     "metadata": {},
     "output_type": "execute_result"
    }
   ],
   "source": [
    "datetime.datetime.now().time()"
   ]
  },
  {
   "cell_type": "code",
   "execution_count": 94,
   "metadata": {},
   "outputs": [
    {
     "name": "stdout",
     "output_type": "stream",
     "text": [
      "time.struct_time(tm_year=2018, tm_mon=9, tm_mday=30, tm_hour=11, tm_min=32, tm_sec=23, tm_wday=6, tm_yday=273, tm_isdst=-1)\n"
     ]
    }
   ],
   "source": [
    "print(time.strptime('2018-9-30 11:32:23', '%Y-%m-%d %H:%M:%S'))"
   ]
  },
  {
   "cell_type": "markdown",
   "metadata": {},
   "source": [
    "53.使用Python内置的filter()方法来过滤？"
   ]
  },
  {
   "cell_type": "code",
   "execution_count": 25,
   "metadata": {},
   "outputs": [
    {
     "data": {
      "text/plain": [
       "[5, 15, 25, 35, 45, 55, 65, 75, 85, 95]"
      ]
     },
     "execution_count": 25,
     "metadata": {},
     "output_type": "execute_result"
    }
   ],
   "source": [
    "filter(lambda x: x%2==1,[x for x in range(0,100) if x%5 == 0])"
   ]
  },
  {
   "cell_type": "markdown",
   "metadata": {},
   "source": [
    "54.编写函数的4个原则"
   ]
  },
  {
   "cell_type": "code",
   "execution_count": null,
   "metadata": {},
   "outputs": [],
   "source": [
    "\"1,函数设计简单，不宜嵌套太深;2.函数声明简洁，参数能反应变量或者函数功能；\n",
    "\"3.函数设计考虑向下兼容.4:一个函数只做一件事\""
   ]
  },
  {
   "cell_type": "markdown",
   "metadata": {},
   "source": [
    "55.python 函数的重载机制"
   ]
  },
  {
   "cell_type": "code",
   "execution_count": null,
   "metadata": {},
   "outputs": [],
   "source": [
    "python不提供函数重载机制；函数重载主要解决了两个问题，1.可变参数类型;2.可变参数的个数;\n",
    "\"函数功能相同，可变参数类型不同，Python怎么处理，答案是不需要解决，因为Python可以接受任何参数\"\n",
    "\"函数功能相同，可变参数个数不同，Python是可以通过函数缺省参数来实现。对于缺失的参数可以认为是缺省的参数来解决问题\""
   ]
  },
  {
   "cell_type": "markdown",
   "metadata": {},
   "source": [
    "56.交换两个变量的值？"
   ]
  },
  {
   "cell_type": "code",
   "execution_count": 29,
   "metadata": {},
   "outputs": [
    {
     "name": "stdout",
     "output_type": "stream",
     "text": [
      "交换后a is  12222 ; b is  1\n"
     ]
    }
   ],
   "source": [
    "a = 1\n",
    "b = 12222\n",
    "a,b = b,a\n",
    "print \"交换后a is \",a,\";\",'b is ',b"
   ]
  },
  {
   "cell_type": "markdown",
   "metadata": {},
   "source": [
    "57.map(lambda x:xx，[y for y in range(3)])的输出？"
   ]
  },
  {
   "cell_type": "code",
   "execution_count": 30,
   "metadata": {},
   "outputs": [
    {
     "data": {
      "text/plain": [
       "[0, 1, 4]"
      ]
     },
     "execution_count": 30,
     "metadata": {},
     "output_type": "execute_result"
    }
   ],
   "source": [
    "map(lambda x:x*x,[y for y in range(3)])"
   ]
  },
  {
   "cell_type": "markdown",
   "metadata": {},
   "source": [
    "58.什么是lambda函数？有什么好处？"
   ]
  },
  {
   "cell_type": "code",
   "execution_count": null,
   "metadata": {},
   "outputs": [],
   "source": [
    "\"匿名函数，好处是不必像普通函数那样需要声明函数名字\""
   ]
  },
  {
   "cell_type": "markdown",
   "metadata": {},
   "source": [
    "59.递归函数停止的条件？"
   ]
  },
  {
   "cell_type": "code",
   "execution_count": null,
   "metadata": {},
   "outputs": [],
   "source": [
    "\"递归的停止条件来之递归函数内部,由判断条件决定是否继续调用自身\"\n",
    "\"判断的条件是:1)递归的次数是不是达到上限；2,递归后结构是否是在期望的范围你\""
   ]
  },
  {
   "cell_type": "markdown",
   "metadata": {},
   "source": [
    "60.一句话解决阶乘函数？- reduce 函数累积"
   ]
  },
  {
   "cell_type": "code",
   "execution_count": 47,
   "metadata": {},
   "outputs": [
    {
     "data": {
      "text/plain": [
       "720"
      ]
     },
     "execution_count": 47,
     "metadata": {},
     "output_type": "execute_result"
    }
   ],
   "source": [
    "# n!\n",
    "n = 6\n",
    "reduce(lambda x,y:x*y,range(1,n+1))"
   ]
  },
  {
   "cell_type": "code",
   "execution_count": 46,
   "metadata": {},
   "outputs": [
    {
     "data": {
      "text/plain": [
       "720"
      ]
     },
     "execution_count": 46,
     "metadata": {},
     "output_type": "execute_result"
    }
   ],
   "source": [
    "# 函数实现\n",
    "def NJIeCheng(N):\n",
    "    n,y =1,1\n",
    "    while n<=N:\n",
    "        y = y*n\n",
    "        n +=1\n",
    "    return y\n",
    "NJIeCheng(6)"
   ]
  },
  {
   "cell_type": "markdown",
   "metadata": {},
   "source": [
    "61.Python主要的内置数据类型都有哪些？ print dir( ‘a ’) 的输出？"
   ]
  },
  {
   "cell_type": "code",
   "execution_count": 53,
   "metadata": {},
   "outputs": [
    {
     "name": "stdout",
     "output_type": "stream",
     "text": [
      "['__add__', '__class__', '__contains__', '__delattr__', '__delitem__', '__delslice__', '__doc__', '__eq__', '__format__', '__ge__', '__getattribute__', '__getitem__', '__getslice__', '__gt__', '__hash__', '__iadd__', '__imul__', '__init__', '__iter__', '__le__', '__len__', '__lt__', '__mul__', '__ne__', '__new__', '__reduce__', '__reduce_ex__', '__repr__', '__reversed__', '__rmul__', '__setattr__', '__setitem__', '__setslice__', '__sizeof__', '__str__', '__subclasshook__', 'append', 'count', 'extend', 'index', 'insert', 'pop', 'remove', 'reverse', 'sort']\n"
     ]
    }
   ],
   "source": [
    "\"Number/String/List/tuple/Dict\"\n",
    "\"list/tuple/dict/int/bool/string/yield/set\"\n",
    "#print dir()    # 返回当前模块的属性列表,列出对象的所有属性和方法\n",
    "print dir([])  # 查看列表的方法"
   ]
  },
  {
   "cell_type": "code",
   "execution_count": 54,
   "metadata": {},
   "outputs": [
    {
     "name": "stdout",
     "output_type": "stream",
     "text": [
      "['__class__', '__cmp__', '__contains__', '__delattr__', '__delitem__', '__doc__', '__eq__', '__format__', '__ge__', '__getattribute__', '__getitem__', '__gt__', '__hash__', '__init__', '__iter__', '__le__', '__len__', '__lt__', '__ne__', '__new__', '__reduce__', '__reduce_ex__', '__repr__', '__setattr__', '__setitem__', '__sizeof__', '__str__', '__subclasshook__', 'clear', 'copy', 'fromkeys', 'get', 'has_key', 'items', 'iteritems', 'iterkeys', 'itervalues', 'keys', 'pop', 'popitem', 'setdefault', 'update', 'values', 'viewitems', 'viewkeys', 'viewvalues']\n"
     ]
    }
   ],
   "source": [
    "print dir({}) # 查看字典的方法"
   ]
  },
  {
   "cell_type": "code",
   "execution_count": 55,
   "metadata": {},
   "outputs": [
    {
     "name": "stdout",
     "output_type": "stream",
     "text": [
      "['__add__', '__class__', '__contains__', '__delattr__', '__doc__', '__eq__', '__format__', '__ge__', '__getattribute__', '__getitem__', '__getnewargs__', '__getslice__', '__gt__', '__hash__', '__init__', '__le__', '__len__', '__lt__', '__mod__', '__mul__', '__ne__', '__new__', '__reduce__', '__reduce_ex__', '__repr__', '__rmod__', '__rmul__', '__setattr__', '__sizeof__', '__str__', '__subclasshook__', '_formatter_field_name_split', '_formatter_parser', 'capitalize', 'center', 'count', 'decode', 'encode', 'endswith', 'expandtabs', 'find', 'format', 'index', 'isalnum', 'isalpha', 'isdigit', 'islower', 'isspace', 'istitle', 'isupper', 'join', 'ljust', 'lower', 'lstrip', 'partition', 'replace', 'rfind', 'rindex', 'rjust', 'rpartition', 'rsplit', 'rstrip', 'split', 'splitlines', 'startswith', 'strip', 'swapcase', 'title', 'translate', 'upper', 'zfill']\n"
     ]
    }
   ],
   "source": [
    "print dir(\"a\")"
   ]
  },
  {
   "cell_type": "markdown",
   "metadata": {},
   "source": [
    "62. 对缺省参数的理解 ？"
   ]
  },
  {
   "cell_type": "code",
   "execution_count": null,
   "metadata": {},
   "outputs": [],
   "source": [
    "\"默认参数机制：1.必选参数放在前面，默认参数在最后。2.默认参数的一般都是把变化较小的数设置为默认参数\"\n",
    "\"当函数调用时，没有传入缺省参数,则执行默认参数\""
   ]
  },
  {
   "cell_type": "markdown",
   "metadata": {},
   "source": [
    "63.参数多值参数"
   ]
  },
  {
   "cell_type": "code",
   "execution_count": null,
   "metadata": {},
   "outputs": [],
   "source": [
    "函数参数列表中，参数前增加一个*可以接收元组，增加两个*可以接收字典。 \n",
    "* args（arguments） 存放元组参数;非键值对的可变参数列表 \n",
    "* * kwargs 存放字典参数\n",
    "元组只有一个参数时，要添加，号; tup = (90,)\n",
    "集合{'organe','apple'} # 对于空集合要使用; set(),而不能使用{}\n",
    "def demo(num,*numd,**num):"
   ]
  },
  {
   "cell_type": "markdown",
   "metadata": {},
   "source": [
    "64..hasattr() getattr() setattr() 函数使用详解？"
   ]
  },
  {
   "cell_type": "code",
   "execution_count": null,
   "metadata": {},
   "outputs": [],
   "source": [
    "1.hasattr(object,\"name\"): 判断一个对象里面是否有name 属性/变量或name 方法，返回BOOL值。有name返回True;\n",
    "    没有name 返回False\n",
    "2.getattr(object,\"XXX\") : 获取一个对象中中的“XXX”变量或者方法,有的话打印出来，没有这打印默认值\n",
    "3.setattr(objece,name,values): 给对象的属性赋值，如属性不存在，先创建在赋值\n",
    "    setattr(text(),\"age\",18) #text()中的age 赋值成18\n",
    "https://www.cnblogs.com/cenyu/p/5713686.html"
   ]
  },
  {
   "cell_type": "markdown",
   "metadata": {},
   "source": [
    "65.回调函数，如何通信的?"
   ]
  },
  {
   "cell_type": "code",
   "execution_count": null,
   "metadata": {},
   "outputs": [],
   "source": [
    "\"回调函数是指通过函数指针调用的函数。如果你把函数的指针作为参数传递给另一个函数,当这个指针被用为调用它指向的函\"\n",
    "\"函数时，就说这个是回调函数。回调函数不是由该函数的实现方调用的，而是在特定的时间或者条件发生时由另一方调用的\""
   ]
  },
  {
   "cell_type": "code",
   "execution_count": 174,
   "metadata": {},
   "outputs": [
    {
     "name": "stdout",
     "output_type": "stream",
     "text": [
      "I want to buy:apple\n",
      "I want to buy:Banana\n"
     ]
    }
   ],
   "source": [
    "#\"回调函数的使用\"\n",
    "def main():\n",
    "    request = \"I want to buy:\"\n",
    "    get1     = FirstShop(request,apple)\n",
    "    print get1\n",
    "    get2     = FirstShop(request,Banana)\n",
    "    print get2\n",
    "\n",
    "def FirstShop(request,function):\n",
    "    return function(request)\n",
    "\n",
    "def apple(request):\n",
    "    return request + \"apple\"\n",
    "\n",
    "def Banana(request):\n",
    "    return request + \"Banana\"\n",
    "\n",
    "main()"
   ]
  },
  {
   "cell_type": "markdown",
   "metadata": {},
   "source": [
    "66.Python中pass语句的作用是什么？"
   ]
  },
  {
   "cell_type": "code",
   "execution_count": null,
   "metadata": {},
   "outputs": [],
   "source": [
    "占位"
   ]
  },
  {
   "cell_type": "markdown",
   "metadata": {},
   "source": [
    "67..为什么函数名字可以当做参数用?"
   ]
  },
  {
   "cell_type": "code",
   "execution_count": null,
   "metadata": {},
   "outputs": [],
   "source": [
    "\"上面的回调函数中，apple ,Branna都是作为函数的参数传递的\"\n",
    "\"装饰器也是可以将函数作为参数传入另外一个函数中\""
   ]
  },
  {
   "cell_type": "markdown",
   "metadata": {},
   "source": [
    "68..带参数的装饰器?"
   ]
  },
  {
   "cell_type": "code",
   "execution_count": 182,
   "metadata": {},
   "outputs": [
    {
     "name": "stdout",
     "output_type": "stream",
     "text": [
      "args is: ([1, 2, 3],)\n",
      "kwargs is: {'Key': 'Values'}\n"
     ]
    }
   ],
   "source": [
    "def decorator(func):\n",
    "    def _decorator(*args,**kwargs):\n",
    "        print \"args is:\",args\n",
    "        print \"kwargs is:\",kwargs\n",
    "        func()\n",
    "    return _decorator\n",
    "\n",
    "@decorator\n",
    "def main():\n",
    "    pass\n",
    "\n",
    "main([1,2,3],Key = \"Values\")"
   ]
  },
  {
   "cell_type": "markdown",
   "metadata": {},
   "source": [
    "69.如何在function里面设置一个全局变量"
   ]
  },
  {
   "cell_type": "code",
   "execution_count": 196,
   "metadata": {},
   "outputs": [
    {
     "name": "stdout",
     "output_type": "stream",
     "text": [
      "3\n",
      "7\n"
     ]
    }
   ],
   "source": [
    "money = 3\n",
    "def AddMoney():\n",
    "    global money\n",
    "    money+=4\n",
    "    return money\n",
    "\n",
    "print money\n",
    "AddMoney()\n",
    "print money"
   ]
  },
  {
   "cell_type": "code",
   "execution_count": null,
   "metadata": {},
   "outputs": [],
   "source": [
    "\"python函数内部变量通过函数属性实现全局变量\"-\n",
    "\"把函数内部的变量看成函数的一个属性”\n",
    "\"从而在其他函数中进行调用，需要注意的是，不管在哪里调用，自己本身函数内部使用或者其他函数中调用都需要进行域指定。\""
   ]
  },
  {
   "cell_type": "code",
   "execution_count": 202,
   "metadata": {},
   "outputs": [
    {
     "name": "stdout",
     "output_type": "stream",
     "text": [
      "Item 2 in AddMoney1 is  11\n"
     ]
    }
   ],
   "source": [
    "def AddMoney1():\n",
    "    item2 = AddMoney1.item1 + 1\n",
    "    print \"Item 2 in AddMoney1 is \",item2\n",
    "    \n",
    "\n",
    "def AddMoney2():\n",
    "    AddMoney1.item1 = 10 # 对item1 初始化。。\n",
    "    AddMoney1()\n",
    "\n",
    "AddMoney2()\n",
    "#AddMoney1() # 报错，因为item1 没有初始化"
   ]
  },
  {
   "cell_type": "markdown",
   "metadata": {},
   "source": [
    "70.函数调用参数的传递方式是值传递还是引用传递？"
   ]
  },
  {
   "cell_type": "code",
   "execution_count": null,
   "metadata": {},
   "outputs": [],
   "source": [
    "\"Python 不允许程序员是传值或传引用。而是采用一种综合的机制。如果函数接收到的是一个可变对象list dict\"\n",
    "\"则被调用函数会修改原始对象在主调对象中的的值\"\n",
    "\"如果函数接收到的是一个不可变对象,数值，char ，元组(\"s\",'s')，则被调用函数不会修改原始对象在主调对象中的的值\""
   ]
  },
  {
   "cell_type": "markdown",
   "metadata": {},
   "source": [
    "71.内存泄露是什么？如何避免？"
   ]
  },
  {
   "cell_type": "code",
   "execution_count": null,
   "metadata": {},
   "outputs": [],
   "source": [
    "\"由于疏忽或者错误而使得程序未能释放已经不在使用的内存的情况，就会出现内存泄漏\"\n",
    "\"内存泄漏并非内存在物理上的消息，而是由于系统设计错误使得对该段内存的控制丧失，导致内存浪费\"\n",
    "\"主要原因是: 有__del__函数的对象之间的循环引用\"\n",
    "\"避免的方法:不使用一个对象时，使用del object 来删除一个对象的引用计数可以避免内存泄漏\""
   ]
  },
  {
   "cell_type": "markdown",
   "metadata": {},
   "source": [
    "72..Python的内存管理机制及调优手段？"
   ]
  },
  {
   "cell_type": "code",
   "execution_count": null,
   "metadata": {},
   "outputs": [],
   "source": [
    "1.引用计数，当python对某一个对象的引用计数将为0时，说明没有任何引用指向该对象，该对象的内存将会被垃圾回收\n",
    "2.标记清楚: 如果两个对象的循环引用次数为1，但仅仅是存在于他们之间的循环引用。那么这两个对象是可以被回收的。"
   ]
  },
  {
   "cell_type": "markdown",
   "metadata": {},
   "source": [
    "73..哪些操作会导致Python内存溢出，怎么处理？"
   ]
  },
  {
   "cell_type": "code",
   "execution_count": null,
   "metadata": {},
   "outputs": [],
   "source": []
  },
  {
   "cell_type": "markdown",
   "metadata": {},
   "source": [
    "74.Python中类方法、类实例方法、静态方法有何区别？"
   ]
  },
  {
   "cell_type": "code",
   "execution_count": null,
   "metadata": {},
   "outputs": [],
   "source": [
    "\"1.静态方法: 是在类中无需实例参与即可调用的方法（不需要self参数）。在调用过程中,无需将类实例化，直接可以使用类.\"\n",
    "\"运算符调用方法\"\n",
    "\"静态方法使用@staticmethod装饰器声明\"\n",
    "\"2.类方法:列方法传入的第一个参数是cls,是类本身。并且类方法可以通过类直接调用，或者通过实例直接调用\"\n",
    "\"3.实例化方法:需要将类实例化后调用,如果使用类直接调用实例方法，需要显式的将实例作为参数传入\""
   ]
  },
  {
   "cell_type": "markdown",
   "metadata": {},
   "source": [
    "75.遍历一个object的所有属性，并print每一个属性名？\n",
    "通过调用__dict__"
   ]
  },
  {
   "cell_type": "code",
   "execution_count": 2,
   "metadata": {},
   "outputs": [
    {
     "name": "stdout",
     "output_type": "stream",
     "text": [
      "{'course': 'Python', 'age': 36, '_Teacher__salary': 20000, 'name': 'Jerry'}\n",
      "{'_Student__score': 'B', 'name': 'Barry', 'calssed': 'python01', 'sid': 12}\n"
     ]
    }
   ],
   "source": [
    "class Teacher(object):\n",
    "    display = \"教师\"  # 有公有属性\n",
    "    def __init__(self,name,age,course,salary):\n",
    "        self.name   = name\n",
    "        self.age    = age\n",
    "        self.course = course\n",
    "        self.__salary = salary  # 也有私有属性\n",
    "# 在定义一个别的类\n",
    "class Student(object):\n",
    "    display = \"学生\"\n",
    "    def __init__(self,name,sid,classes,score):\n",
    "        self.name = name\n",
    "        self.sid  = sid\n",
    "        self.calssed = classes\n",
    "        self.__score = score\n",
    "def print_obj(obj):\n",
    "    \"打印对象的所有属性\"\n",
    "    print(obj.__dict__)\n",
    "t1 = Teacher(\"Jerry\",36,\"Python\",20000)\n",
    "s1 = Student('Barry',12,\"python01\",\"B\")\n",
    "print_obj(t1)\n",
    "print_obj(s1)"
   ]
  },
  {
   "cell_type": "markdown",
   "metadata": {},
   "source": [
    "76..写一个类，并让它尽可能多的支持操作符?"
   ]
  },
  {
   "cell_type": "code",
   "execution_count": 2,
   "metadata": {},
   "outputs": [
    {
     "name": "stdout",
     "output_type": "stream",
     "text": [
      "This is one constructor....\n",
      "This is self-define array class...\n",
      "1,len(arr) is  0\n",
      "2,len(arr) is  3\n",
      "----------Show all itmes --------\n",
      "1\n",
      "2\n",
      "3\n"
     ]
    }
   ],
   "source": [
    "class Array():\n",
    "    __list = []\n",
    "    def __init__(self):\n",
    "        print  \"This is one constructor....\"\n",
    "    def __del__(self):\n",
    "        print  \"This is one destructor....\"\n",
    "        \n",
    "    def __str__(self):\n",
    "        return  \"This is self-define array class...\"\n",
    "    \n",
    "    def __getitems__(self,key):\n",
    "        return self.__list[key]\n",
    "    \n",
    "    def __len__(self):\n",
    "        return len(self.__list)\n",
    "    \n",
    "    def ADD(self,values):\n",
    "        return self.__list.append(values)\n",
    "    \n",
    "    def Remove(self,index):\n",
    "        del self.__list[index]\n",
    "    \n",
    "    def DisplayItems(self):\n",
    "        print \"----------Show all itmes --------\"\n",
    "        for items in self.__list:\n",
    "            print items \n",
    "arr = Array()\n",
    "print arr\n",
    "print \"1,len(arr) is \",len(arr)\n",
    "arr.ADD(1)\n",
    "arr.ADD(2)\n",
    "arr.ADD(3)\n",
    "print \"2,len(arr) is \",len(arr)\n",
    "arr.DisplayItems()\n",
    "arr.Remove(2) #index =2"
   ]
  },
  {
   "cell_type": "markdown",
   "metadata": {},
   "source": [
    "77.介绍Cpython，Pypy Cpython Numba各有什么缺点"
   ]
  },
  {
   "cell_type": "code",
   "execution_count": null,
   "metadata": {},
   "outputs": [],
   "source": [
    "Pypy内置JIT,对纯Python项目兼容性极好,几乎可以直接运行提升运行效率，但是缺乏对C 语言的库\n",
    "Cython 是python +C 的组合，转成C编译的效率较高，但是相对麻烦\n",
    "Numba 是一个库，可以在运行时将python 代码编译为本地机器指令"
   ]
  },
  {
   "cell_type": "markdown",
   "metadata": {},
   "source": [
    "78.请描述抽象类和接口类的区别和联系"
   ]
  },
  {
   "cell_type": "code",
   "execution_count": null,
   "metadata": {},
   "outputs": [],
   "source": [
    "https://www.cnblogs.com/weihengblog/p/8528967.html\n",
    "1.接口类：接口继承实质上是做了一个良好的抽象。这个抽象规定了一个兼容接口。使得外部调用者无需关心具体细节。\n",
    "可一视同仁的处理特定接口的所有对象。\n",
    "# 下面的代码在类的定义的时候都统一使用了类似：\n",
    "def PayMethod(object):\n",
    "    # 规定兼容接口 - 类似兼容接口\n",
    "    def pay(self,money):\n",
    "        print (\"PayMethod pay money %s\" %money)\n",
    "# 调用的时候直接将各个类的实例化对象传入方法pay,无需关心细节"
   ]
  },
  {
   "cell_type": "code",
   "execution_count": 20,
   "metadata": {},
   "outputs": [
    {
     "name": "stdout",
     "output_type": "stream",
     "text": [
      "微信支付了100\n",
      "支付宝支付了200\n",
      "苹果支付了300\n"
     ]
    }
   ],
   "source": [
    "#微信支付\n",
    "class WeChatPay(object):\n",
    "    def pay(self,money):\n",
    "        print('微信支付了%s'%money)\n",
    "\n",
    "#支付宝支付\n",
    "class AliPay(object):\n",
    "    def pay(self,money):\n",
    "        print('支付宝支付了%s'%money)\n",
    "\n",
    "#苹果支付\n",
    "class ApplePay(object):\n",
    "    def pay(self,money):\n",
    "        print('苹果支付了%s'%money)\n",
    "\n",
    "weixin = WeChatPay()\n",
    "alipay = AliPay()\n",
    "applepay = ApplePay()\n",
    "\n",
    "#调用者无需关心具体实现细节，可以一视同仁的处理实现了特定接口的所有对象\n",
    "pay(weixin,100)\n",
    "pay(alipay,200)\n",
    "pay(applepay,300)"
   ]
  },
  {
   "cell_type": "code",
   "execution_count": null,
   "metadata": {},
   "outputs": [],
   "source": [
    "2.抽象类是一个特殊的类，它的特殊之处在于只能被继承，不能被实例化.\n",
    "抽象类是从一堆类中抽取相同的内容而来，内容包括数据属性和函数属性\n",
    "\"比如香蕉是一个类，苹果是一个类，桃子是一个类,你吃水果时，要么吃一个具体的香蕉，要么一个具体的桃子，无法永远\"\n",
    "\"一个具体叫水果的东西\""
   ]
  },
  {
   "cell_type": "markdown",
   "metadata": {},
   "source": [
    "79..Python中如何动态获取和设置对象的属性？"
   ]
  },
  {
   "cell_type": "code",
   "execution_count": null,
   "metadata": {},
   "outputs": [],
   "source": [
    "hasattr/getattr/setattr\n",
    "1.hasattr(object,\"name\"): 判断一个对象里面是否有name 属性/变量或name 方法，返回BOOL值。有name返回True;\n",
    "    没有name 返回False\n",
    "2.getattr(object,\"XXX\") : 获取一个对象中中的“XXX”变量或者方法,有的话打印出来，没有这打印默认值\n",
    "3.setattr(objece,name,values): 给对象的属性赋值，如属性不存在，先创建在赋值\n",
    "    setattr(text(),\"age\",18) #text()中的age 赋值成18\n",
    "https://www.cnblogs.com/cenyu/p/5713686.html"
   ]
  },
  {
   "cell_type": "markdown",
   "metadata": {},
   "source": [
    "80.对设计模式的理解，简述你了解的设计模式？"
   ]
  },
  {
   "cell_type": "code",
   "execution_count": null,
   "metadata": {},
   "outputs": [],
   "source": [
    "\"设计模式是一套被反复使用，多数知晓的，经过分类编目和代码设计经验的总结。使用设计模式是为了可重用代码，\"\n",
    "\"让代码个容易被人理解与使用\"\n",
    "https://zhidao.baidu.com/question/494549384204255612.html"
   ]
  },
  {
   "cell_type": "markdown",
   "metadata": {},
   "source": [
    "81.请手写一个单例"
   ]
  },
  {
   "cell_type": "code",
   "execution_count": null,
   "metadata": {},
   "outputs": [],
   "source": [
    "通过手写一个装饰器来实现一个单例。其他方法还有通过NEW基类的方法实现。参考题目33 "
   ]
  },
  {
   "cell_type": "markdown",
   "metadata": {},
   "source": [
    "82.解释以下什么是闭包？"
   ]
  },
  {
   "cell_type": "code",
   "execution_count": null,
   "metadata": {},
   "outputs": [],
   "source": [
    "\"闭包 = 函数+ 定义环境时的变量。\"  可解释为: 在一个内部函数里，对在外部作用域（非全局变量）的变量的引用\n",
    "    “则内部函数可以认定为一个闭包”"
   ]
  },
  {
   "cell_type": "code",
   "execution_count": 33,
   "metadata": {},
   "outputs": [
    {
     "name": "stdout",
     "output_type": "stream",
     "text": [
      "y... =  2\n"
     ]
    },
    {
     "data": {
      "text/plain": [
       "5"
      ]
     },
     "execution_count": 33,
     "metadata": {},
     "output_type": "execute_result"
    }
   ],
   "source": [
    "def addx(x,y):\n",
    "    print \"y... = \",y\n",
    "    def adder(y):\n",
    "        return x + y\n",
    "    return adder\n",
    "\n",
    "c =addx(1,2)\n",
    "c(4) # c is adder function "
   ]
  },
  {
   "cell_type": "markdown",
   "metadata": {},
   "source": [
    "83.函数装饰器有什么作用？"
   ]
  },
  {
   "cell_type": "code",
   "execution_count": null,
   "metadata": {},
   "outputs": [],
   "source": [
    "“在不改变原来函数的基础上，增加函数实现的功能”"
   ]
  },
  {
   "cell_type": "markdown",
   "metadata": {},
   "source": [
    "84.生成器，迭代器的区别？"
   ]
  },
  {
   "cell_type": "code",
   "execution_count": null,
   "metadata": {},
   "outputs": [],
   "source": [
    "生成器是一种特殊的迭代器，自动实现了“迭代器协议 - __iter__ 和__next__ 方法”，不需要在手动实现两个方法。\n",
    "具有yield 关键字的函数都是生成器，yield 可以理解为return,返回后面的值给调用者。。。。。\n",
    "不同的是return 返回后函数会释放，而生成器缺变化。在通过next方法执行一次迭代后，生成器会从yield 的一下句继续执行\n",
    "\n",
    "迭代器：拥有__iter__方法的对象是可迭代对象；同时拥有next()方法的才是迭代器\n",
    "迭代器是比可迭代对象更严格的。\n",
    "next() - 返回迭代的每一步，实现该方法时注意要最后超出边界要抛出StopIteration异常。\n"
   ]
  },
  {
   "cell_type": "markdown",
   "metadata": {},
   "source": [
    "85.X是什么类型?"
   ]
  },
  {
   "cell_type": "code",
   "execution_count": 37,
   "metadata": {},
   "outputs": [],
   "source": [
    "X= (x for x in range(0,10)) # X 是生成器\n",
    "X = [x for x in range(0,10)] #X 是列表 "
   ]
  },
  {
   "cell_type": "markdown",
   "metadata": {},
   "source": [
    "86.请用一行代码 实现将1-N 的整数列表以3为单位分组"
   ]
  },
  {
   "cell_type": "code",
   "execution_count": 47,
   "metadata": {},
   "outputs": [
    {
     "data": {
      "text/plain": [
       "[[1, 2, 3], [4, 5, 6], [7, 8, 9], [10]]"
      ]
     },
     "execution_count": 47,
     "metadata": {},
     "output_type": "execute_result"
    }
   ],
   "source": [
    "N = 10\n",
    "[ [x for x in range(1,N+1)][i:i+3] for i in range(0,N) if i%3==0 ]"
   ]
  },
  {
   "cell_type": "markdown",
   "metadata": {},
   "source": [
    "87.Python中yield的用法?"
   ]
  },
  {
   "cell_type": "code",
   "execution_count": null,
   "metadata": {},
   "outputs": [],
   "source": [
    "用于生成器中，每执行一次通过yield 返回一次想要的值；下次执行时会继续从yield 的地方继续执行\n",
    "生成器可以同next()逐次执行"
   ]
  },
  {
   "cell_type": "markdown",
   "metadata": {},
   "source": [
    "88..Python中的可变对象和不可变对象？"
   ]
  },
  {
   "cell_type": "code",
   "execution_count": null,
   "metadata": {},
   "outputs": [],
   "source": [
    "\"Python中的不可变对象有数字，字符串string,元组tuple\"; 可变对象有列表list,集合set,字典dict"
   ]
  },
  {
   "cell_type": "markdown",
   "metadata": {},
   "source": [
    "89.Python的魔法方法"
   ]
  },
  {
   "cell_type": "code",
   "execution_count": null,
   "metadata": {},
   "outputs": [],
   "source": [
    "__new__:是在一个对象实例化的时候才调用的方法；__new__(cls,[,...]) 第一个参数是列，其他的参数是用来直接传递\n",
    "    给__init__方法；主要用于继承一个不可变的类型比如元组和striny \n",
    "__init__: 构造器，当一个实例创建的时候调用的初始化方法\n",
    "__del__: 析构器，当一个实例被销毁的时候调用\n",
    "__call__:允许一个类的实例想函数一样被调用; x(a,b)调用x.__call__(a,b)\n",
    "__len__ :定义当被len()调用是的行为\n",
    "https://www.cnblogs.com/seablog/p/7173107.html"
   ]
  },
  {
   "cell_type": "markdown",
   "metadata": {},
   "source": [
    "90.面向对象中怎么实现只读属性?\n",
    "\"@property 的方法来实现,变量的只读属性\""
   ]
  },
  {
   "cell_type": "code",
   "execution_count": 159,
   "metadata": {},
   "outputs": [
    {
     "name": "stdout",
     "output_type": "stream",
     "text": [
      "12\n",
      "22\n"
     ]
    }
   ],
   "source": [
    "\"下面的代码没有加入只读特性，可以修改x的值\"\n",
    "class ReadOnly(object):  \n",
    "    def __init__(self,x):\n",
    "        self._x = x\n",
    "\n",
    "    def GetItems(self):\n",
    "        return self._x\n",
    "\n",
    "if __name__ == \"__main__\":\n",
    "    readonly = ReadOnly(12)\n",
    "    print (readonly.GetItems())\n",
    "    readonly.GetItems = 22\n",
    "    print readonly.GetItems"
   ]
  },
  {
   "cell_type": "code",
   "execution_count": 177,
   "metadata": {},
   "outputs": [
    {
     "name": "stdout",
     "output_type": "stream",
     "text": [
      "(12, 32)\n"
     ]
    }
   ],
   "source": [
    "\"加入只读特殊性后的代码:\"\n",
    "class Readonly(object):\n",
    "    \n",
    "    def __init__(self,x,y):\n",
    "        self.x = x\n",
    "        self.y = y\n",
    "        \n",
    "    @property\n",
    "    def GetIng(self):\n",
    "        x = self.x\n",
    "        y = self.y\n",
    "        return x,y\n",
    "\n",
    "randonly = Readonly(12,32)\n",
    "print randonly.GetIng\n",
    "randonly.GetIng = 120  # - Error:只读特性，不能被修改"
   ]
  },
  {
   "cell_type": "markdown",
   "metadata": {},
   "source": [
    " 91 谈谈你对面向对象的理解？"
   ]
  },
  {
   "cell_type": "code",
   "execution_count": null,
   "metadata": {},
   "outputs": [],
   "source": [
    "Python从设计之初就已经是一门面向对象的语言，正因为如此，在Python中创建一个类和对象是很容易的\n",
    "\"类：用来描述具有相同属性和方法的对象的集合\"\n",
    "\"类变量: 类变量在整个实例化的过程中都是可以公用的\"\n",
    "\"数据成员:类变量在处理实例问题是涉及到的数据\""
   ]
  },
  {
   "cell_type": "code",
   "execution_count": null,
   "metadata": {},
   "outputs": [],
   "source": []
  }
 ],
 "metadata": {
  "kernelspec": {
   "display_name": "Python 2",
   "language": "python",
   "name": "python2"
  },
  "language_info": {
   "codemirror_mode": {
    "name": "ipython",
    "version": 2
   },
   "file_extension": ".py",
   "mimetype": "text/x-python",
   "name": "python",
   "nbconvert_exporter": "python",
   "pygments_lexer": "ipython2",
   "version": "2.7.9"
  }
 },
 "nbformat": 4,
 "nbformat_minor": 2
}
