{
 "cells": [
  {
   "cell_type": "code",
   "execution_count": 1,
   "metadata": {},
   "outputs": [],
   "source": [
    "## link from https://mp.weixin.qq.com/s?__biz=MzIwMDU3MDkzNg==&mid=2651307739&idx=1&sn=fc502092ec01969e4e72795c5a18a46f&chksm=8d083f8cba7fb69a49e7b88e3758e81e27fd3525866256294ee0cc32caf5c93f80cb0183b637&mpshare=1&scene=1&srcid=06225Km17OMbwtlL0hCz3cdY&pass_ticket=opOWYrmIEolYh1mppKtKG6rAYl9akAa10sJomp2dquhrUwD%2BcT5npgc5f%2Bvuc%2BNW#rd\n",
    "## platform : python2 + win7 \n",
    "## 2019 - 6 - 23\n",
    "## "
   ]
  },
  {
   "cell_type": "code",
   "execution_count": 3,
   "metadata": {},
   "outputs": [
    {
     "name": "stdout",
     "output_type": "stream",
     "text": [
      "原始数列是:     [187, 129, 152, 191, 192, 11, 167, 45, 103, 86, 20, 90]\n",
      "排序后的数列是: [192, 191, 187, 167, 152, 129, 103, 90, 86, 45, 20, 11]\n"
     ]
    }
   ],
   "source": [
    "\"冒泡排序算法\"\n",
    "import random \n",
    "lis = random.sample(range(0,200),12)\n",
    "print (\"原始数列是:    \",lis)\n",
    "for i in range(len(lis) -1):\n",
    "    for j in range(len(lis)-1-i):\n",
    "        if lis[j]<lis[j+1]: # \"当前值如果比后面的值晓就交换,大的值向前\" -> 最终最小的值 被move到最后一个位置 当i循环起来的时候，排序完成\n",
    "            lis[j],lis[j+1] = lis[j+1],lis[j]\n",
    "print (\"排序后的数列是:\",lis)"
   ]
  },
  {
   "cell_type": "code",
   "execution_count": 4,
   "metadata": {},
   "outputs": [
    {
     "data": {
      "text/plain": [
       "[3, 50, 15, 44, 31, 141, 115, 186, 2, 78, 18, 92]"
      ]
     },
     "execution_count": 4,
     "metadata": {},
     "output_type": "execute_result"
    }
   ],
   "source": [
    "data = random.sample(range(0,200),12)\n",
    "data"
   ]
  },
  {
   "cell_type": "code",
   "execution_count": 11,
   "metadata": {},
   "outputs": [],
   "source": [
    "i = 3\n",
    "for j in range(len(data) -1 - i):\n",
    "    if data[j]<data[j+1]:\n",
    "        data[j],data[j+1] = data[j+1],data[j]"
   ]
  },
  {
   "cell_type": "code",
   "execution_count": 6,
   "metadata": {},
   "outputs": [
    {
     "data": {
      "text/plain": [
       "[50, 15, 44, 31, 141, 115, 186, 3, 78, 18, 92, 2]"
      ]
     },
     "execution_count": 6,
     "metadata": {},
     "output_type": "execute_result"
    }
   ],
   "source": [
    "# i = 0\n",
    "data"
   ]
  },
  {
   "cell_type": "code",
   "execution_count": 8,
   "metadata": {},
   "outputs": [
    {
     "data": {
      "text/plain": [
       "[50, 44, 31, 141, 115, 186, 15, 78, 18, 92, 3, 2]"
      ]
     },
     "execution_count": 8,
     "metadata": {},
     "output_type": "execute_result"
    }
   ],
   "source": [
    "# i = 1\n",
    "data"
   ]
  },
  {
   "cell_type": "code",
   "execution_count": 10,
   "metadata": {},
   "outputs": [
    {
     "data": {
      "text/plain": [
       "[50, 44, 141, 115, 186, 31, 78, 18, 92, 15, 3, 2]"
      ]
     },
     "execution_count": 10,
     "metadata": {},
     "output_type": "execute_result"
    }
   ],
   "source": [
    "# i = 2\n",
    "data"
   ]
  },
  {
   "cell_type": "code",
   "execution_count": 12,
   "metadata": {},
   "outputs": [
    {
     "data": {
      "text/plain": [
       "[50, 141, 115, 186, 44, 78, 31, 92, 18, 15, 3, 2]"
      ]
     },
     "execution_count": 12,
     "metadata": {},
     "output_type": "execute_result"
    }
   ],
   "source": [
    "# i = 3\n",
    "data"
   ]
  },
  {
   "cell_type": "markdown",
   "metadata": {},
   "source": [
    "2.计算x的n次方的方法"
   ]
  },
  {
   "cell_type": "code",
   "execution_count": 13,
   "metadata": {},
   "outputs": [],
   "source": [
    "def Power(x,n):  # x can be float datatype, such as 3.21, n can be float but n works as int() when calcuted\n",
    "    i = 0\n",
    "    s = 1\n",
    "    while i<=n:\n",
    "        i = i+1\n",
    "        s = s * x\n",
    "    return s"
   ]
  },
  {
   "cell_type": "code",
   "execution_count": 14,
   "metadata": {},
   "outputs": [
    {
     "data": {
      "text/plain": [
       "256"
      ]
     },
     "execution_count": 14,
     "metadata": {},
     "output_type": "execute_result"
    }
   ],
   "source": [
    "Power(4,3)"
   ]
  },
  {
   "cell_type": "markdown",
   "metadata": {},
   "source": [
    "3.计算a*a + b*b + c*c + ……"
   ]
  },
  {
   "cell_type": "code",
   "execution_count": 21,
   "metadata": {},
   "outputs": [
    {
     "data": {
      "text/plain": [
       "29"
      ]
     },
     "execution_count": 21,
     "metadata": {},
     "output_type": "execute_result"
    }
   ],
   "source": [
    "def calculated(*args):\n",
    "    sum  = 0\n",
    "    for i in args:\n",
    "        sum = sum + i*i;\n",
    "    return sum\n",
    "calculated(2,4,3)"
   ]
  },
  {
   "cell_type": "markdown",
   "metadata": {},
   "source": [
    "4.计算数的阶乘 n!"
   ]
  },
  {
   "cell_type": "code",
   "execution_count": 16,
   "metadata": {},
   "outputs": [
    {
     "data": {
      "text/plain": [
       "24"
      ]
     },
     "execution_count": 16,
     "metadata": {},
     "output_type": "execute_result"
    }
   ],
   "source": [
    "def fact(n):\n",
    "    if n<=0:\n",
    "        return 0\n",
    "    if n == 1:\n",
    "        return 1  # \"循环嵌套的终止条件\"\n",
    "    return n*fact(n-1)\n",
    "\n",
    "fact(4)"
   ]
  },
  {
   "cell_type": "code",
   "execution_count": 22,
   "metadata": {},
   "outputs": [
    {
     "data": {
      "text/plain": [
       "120"
      ]
     },
     "execution_count": 22,
     "metadata": {},
     "output_type": "execute_result"
    }
   ],
   "source": [
    "def fact1(n):\n",
    "    if n<=0:\n",
    "        return 0 \n",
    "    # n>0;\n",
    "    n0 = 1\n",
    "    result = 1\n",
    "    while n0<=n:\n",
    "        result = result * n0\n",
    "        n0  = n0+1\n",
    "    return result\n",
    "fact1(5)"
   ]
  },
  {
   "cell_type": "code",
   "execution_count": 30,
   "metadata": {},
   "outputs": [
    {
     "data": {
      "text/plain": [
       "40320"
      ]
     },
     "execution_count": 30,
     "metadata": {},
     "output_type": "execute_result"
    }
   ],
   "source": [
    "# 这一项是比较容易想到的\n",
    "def fact2(n):\n",
    "    if n<=0:\n",
    "        return 0\n",
    "    result = 1\n",
    "    for i in range(1,n+1):\n",
    "        result = result * i\n",
    "    return result\n",
    "fact2(8)"
   ]
  },
  {
   "cell_type": "markdown",
   "metadata": {},
   "source": [
    "5、列出当前目录下的所有文件和目录名"
   ]
  },
  {
   "cell_type": "code",
   "execution_count": 37,
   "metadata": {},
   "outputs": [
    {
     "data": {
      "text/plain": [
       "['.git',\n",
       " '.ipynb_checkpoints',\n",
       " '1_CountFiles_inPath.ipynb',\n",
       " '30_usecaseinPython.ipynb',\n",
       " '9_Python_Interview_2019.ipynb',\n",
       " 'data',\n",
       " 'debug.log',\n",
       " 'LICENSE',\n",
       " 'Movies.xlsx',\n",
       " 'sample.xlsx']"
      ]
     },
     "execution_count": 37,
     "metadata": {},
     "output_type": "execute_result"
    }
   ],
   "source": [
    "import os\n",
    "[d for d in os.listdir('.')]"
   ]
  },
  {
   "cell_type": "code",
   "execution_count": 39,
   "metadata": {},
   "outputs": [
    {
     "data": {
      "text/plain": [
       "['.git',\n",
       " '.ipynb_checkpoints',\n",
       " '1_CountFiles_inPath.ipynb',\n",
       " '30_usecaseinPython.ipynb',\n",
       " '9_Python_Interview_2019.ipynb',\n",
       " 'data',\n",
       " 'debug.log',\n",
       " 'LICENSE',\n",
       " 'Movies.xlsx',\n",
       " 'sample.xlsx']"
      ]
     },
     "execution_count": 39,
     "metadata": {},
     "output_type": "execute_result"
    }
   ],
   "source": [
    "import os\n",
    "[d for d in os.listdir()]"
   ]
  },
  {
   "cell_type": "markdown",
   "metadata": {},
   "source": [
    "6. 把一个list中所有的字符串变成小写"
   ]
  },
  {
   "cell_type": "code",
   "execution_count": 97,
   "metadata": {},
   "outputs": [
    {
     "data": {
      "text/plain": [
       "['hello', 'pyhton']"
      ]
     },
     "execution_count": 97,
     "metadata": {},
     "output_type": "execute_result"
    }
   ],
   "source": [
    "A = [\"HELLO\",\"Pyhton\"]\n",
    "[a.lower() for a in A]"
   ]
  },
  {
   "cell_type": "markdown",
   "metadata": {},
   "source": [
    "7、输出某个路径下的所有文件和文件夹的路径"
   ]
  },
  {
   "cell_type": "code",
   "execution_count": 42,
   "metadata": {},
   "outputs": [],
   "source": [
    "def printfile():\n",
    "    filepath = 'C:\\AI\\github\\Ai_Lab_\\Python_Learning'\n",
    "    if filepath == \"\":\n",
    "        print (\"当前路径无效\")\n",
    "    else:\n",
    "        for i in os.listdir(\".\"):\n",
    "            print(os.path.join(filepath,i))"
   ]
  },
  {
   "cell_type": "code",
   "execution_count": 43,
   "metadata": {},
   "outputs": [
    {
     "name": "stdout",
     "output_type": "stream",
     "text": [
      "C:\\AI\\github\\Ai_Lab_\\Python_Learning\\.git\n",
      "C:\\AI\\github\\Ai_Lab_\\Python_Learning\\.ipynb_checkpoints\n",
      "C:\\AI\\github\\Ai_Lab_\\Python_Learning\\1_CountFiles_inPath.ipynb\n",
      "C:\\AI\\github\\Ai_Lab_\\Python_Learning\\30_usecaseinPython.ipynb\n",
      "C:\\AI\\github\\Ai_Lab_\\Python_Learning\\9_Python_Interview_2019.ipynb\n",
      "C:\\AI\\github\\Ai_Lab_\\Python_Learning\\data\n",
      "C:\\AI\\github\\Ai_Lab_\\Python_Learning\\debug.log\n",
      "C:\\AI\\github\\Ai_Lab_\\Python_Learning\\LICENSE\n",
      "C:\\AI\\github\\Ai_Lab_\\Python_Learning\\Movies.xlsx\n",
      "C:\\AI\\github\\Ai_Lab_\\Python_Learning\\sample.xlsx\n",
      "None\n"
     ]
    }
   ],
   "source": [
    "print(printfile())"
   ]
  },
  {
   "cell_type": "code",
   "execution_count": 46,
   "metadata": {},
   "outputs": [
    {
     "data": {
      "text/plain": [
       "['.git',\n",
       " '.ipynb_checkpoints',\n",
       " '1_CountFiles_inPath.ipynb',\n",
       " '30_usecaseinPython.ipynb',\n",
       " '9_Python_Interview_2019.ipynb',\n",
       " 'data',\n",
       " 'debug.log',\n",
       " 'LICENSE',\n",
       " 'Movies.xlsx',\n",
       " 'sample.xlsx']"
      ]
     },
     "execution_count": 46,
     "metadata": {},
     "output_type": "execute_result"
    }
   ],
   "source": [
    "os.listdir('.')"
   ]
  },
  {
   "cell_type": "markdown",
   "metadata": {},
   "source": [
    "8、输出某个路径及其子目录下的所有文件路径"
   ]
  },
  {
   "cell_type": "code",
   "execution_count": 49,
   "metadata": {},
   "outputs": [
    {
     "name": "stdout",
     "output_type": "stream",
     "text": [
      "path is[2020]:  C:\\AI\\github\\Ai_Lab_\\Python_Learning\\.git\n",
      "path is[2020]:  C:\\AI\\github\\Ai_Lab_\\Python_Learning\\.ipynb_checkpoints\n",
      "path is[2020]:  C:\\AI\\github\\Ai_Lab_\\Python_Learning\\1_CountFiles_inPath.ipynb\n",
      "path is[2020]:  C:\\AI\\github\\Ai_Lab_\\Python_Learning\\30_usecaseinPython.ipynb\n",
      "path is[2020]:  C:\\AI\\github\\Ai_Lab_\\Python_Learning\\9_Python_Interview_2019.ipynb\n",
      "path is[2020]:  C:\\AI\\github\\Ai_Lab_\\Python_Learning\\data\n",
      "path is[2020]:  C:\\AI\\github\\Ai_Lab_\\Python_Learning\\debug.log\n",
      "path is[2020]:  C:\\AI\\github\\Ai_Lab_\\Python_Learning\\LICENSE\n",
      "path is[2020]:  C:\\AI\\github\\Ai_Lab_\\Python_Learning\\Movies.xlsx\n",
      "path is[2020]:  C:\\AI\\github\\Ai_Lab_\\Python_Learning\\sample.xlsx\n"
     ]
    }
   ],
   "source": [
    "import os\n",
    "def findallpath(filepath):\n",
    "    for i in os.listdir(filepath):\n",
    "        path = (os.path.join(filepath,i))\n",
    "        print (\"path is[2020]: \",path)\n",
    "    if os.path.isdir(path):  # \"如果当前Path依然是路径，则继续嵌套执行\n",
    "        pass\n",
    "        #findallpath(path)\n",
    "        \n",
    "findallpath(\"C:\\AI\\github\\Ai_Lab_\\Python_Learning\")"
   ]
  },
  {
   "cell_type": "markdown",
   "metadata": {},
   "source": [
    "9、输出某个路径及其子目录下所有以.html为后缀的文件"
   ]
  },
  {
   "cell_type": "code",
   "execution_count": 44,
   "metadata": {},
   "outputs": [],
   "source": [
    "def showdirs(filepath):\n",
    "    for i in os.listdir(filepath):\n",
    "        path = os.path.join(filepath,i)\n",
    "        #print path\n",
    "    if os.path.isdir(path):\n",
    "        showdirs(path)\n",
    "    if path.endswith(\".ipynb\"):\n",
    "        print \"path:\",path"
   ]
  },
  {
   "cell_type": "code",
   "execution_count": 45,
   "metadata": {},
   "outputs": [
    {
     "name": "stdout",
     "output_type": "stream",
     "text": [
      "path: F:\\AI\\github\\Ai_Lab_NLP\\Untitled.ipynb\n"
     ]
    }
   ],
   "source": [
    "showdirs(\"F:\\AI\\github\\Ai_Lab_NLP\")"
   ]
  },
  {
   "cell_type": "markdown",
   "metadata": {},
   "source": [
    "10、把原字典的键值对颠倒并生产新的字典"
   ]
  },
  {
   "cell_type": "code",
   "execution_count": 51,
   "metadata": {},
   "outputs": [
    {
     "data": {
      "text/plain": [
       "{4: 'a', 6: 'c', 24: '2', 180: 'was'}"
      ]
     },
     "execution_count": 51,
     "metadata": {},
     "output_type": "execute_result"
    }
   ],
   "source": [
    "dict1 = {'a':2,'c':3,'2':12,'was':90}\n",
    "dict2 = {y*2:x for x,y in dict1.items()}\n",
    "dict2"
   ]
  },
  {
   "cell_type": "markdown",
   "metadata": {},
   "source": [
    "11.打印九九乘法表"
   ]
  },
  {
   "cell_type": "code",
   "execution_count": 93,
   "metadata": {},
   "outputs": [
    {
     "name": "stdout",
     "output_type": "stream",
     "text": [
      "1 * 1 = 1  \t\n",
      "2 * 1 = 2  2 * 2 = 4  \t\n",
      "3 * 1 = 3  3 * 2 = 6  3 * 3 = 9  \t\n",
      "4 * 1 = 4  4 * 2 = 8  4 * 3 = 12  4 * 4 = 16  \t\n",
      "5 * 1 = 5  5 * 2 = 10  5 * 3 = 15  5 * 4 = 20  5 * 5 = 25  \t\n",
      "6 * 1 = 6  6 * 2 = 12  6 * 3 = 18  6 * 4 = 24  6 * 5 = 30  6 * 6 = 36  \t\n",
      "7 * 1 = 7  7 * 2 = 14  7 * 3 = 21  7 * 4 = 28  7 * 5 = 35  7 * 6 = 42  7 * 7 = 49  \t\n",
      "8 * 1 = 8  8 * 2 = 16  8 * 3 = 24  8 * 4 = 32  8 * 5 = 40  8 * 6 = 48  8 * 7 = 56  8 * 8 = 64  \t\n",
      "9 * 1 = 9  9 * 2 = 18  9 * 3 = 27  9 * 4 = 36  9 * 5 = 45  9 * 6 = 54  9 * 7 = 63  9 * 8 = 72  9 * 9 = 81  \t\n"
     ]
    }
   ],
   "source": [
    "for i in range(1,10):\n",
    "    for j in range(1,i+1):\n",
    "        print(\"%d * %d = %d \"%(i,j,i*j)), \n",
    "    print \"\\t\""
   ]
  },
  {
   "cell_type": "markdown",
   "metadata": {},
   "source": [
    "12、替换列表中所有的3为3a"
   ]
  },
  {
   "cell_type": "code",
   "execution_count": 140,
   "metadata": {},
   "outputs": [
    {
     "data": {
      "text/plain": [
       "['d', 'thens', '3a', 12, 32, 3222, 311, '3a', 4, 5, 33, 44, '3a', 2, '3a']"
      ]
     },
     "execution_count": 140,
     "metadata": {},
     "output_type": "execute_result"
    }
   ],
   "source": [
    "\"下面再python-3 下实现可以\"\n",
    "nums = [\"d\",'thens',3,12,32,3222,311,3,4,5,33,44,3,2,3]\n",
    "for i in range(nums.count(3)):\n",
    "    indexs = nums.index(3)\n",
    "    nums[indexs] = '3a'\n",
    "    \n",
    "nums"
   ]
  },
  {
   "cell_type": "markdown",
   "metadata": {},
   "source": [
    "13. 合并去重或者取交集"
   ]
  },
  {
   "cell_type": "code",
   "execution_count": 144,
   "metadata": {},
   "outputs": [
    {
     "data": {
      "text/plain": [
       "{2, 4}"
      ]
     },
     "execution_count": 144,
     "metadata": {},
     "output_type": "execute_result"
    }
   ],
   "source": [
    "list1  = [1,2,3,4,4,4,4,5,5,8]\n",
    "list2  = [21,22,2,4,4,9]\n",
    "set(list1)^set(list2) # “并集”\n",
    "set(list1)&set(list2)"
   ]
  },
  {
   "cell_type": "markdown",
   "metadata": {},
   "source": [
    "14. \"随机生成验证码\""
   ]
  },
  {
   "cell_type": "code",
   "execution_count": 165,
   "metadata": {},
   "outputs": [
    {
     "data": {
      "text/plain": [
       "['A', 'f', 'q', 'b', '1', 's']"
      ]
     },
     "execution_count": 165,
     "metadata": {},
     "output_type": "execute_result"
    }
   ],
   "source": [
    "\"大写字母ASCII区间：65-91\"\n",
    "\"小写字母ASCII区间: 97- (97+91-65)\"\n",
    "\"数字ASCII区间:48,58\"\n",
    "import random\n",
    "randoms = []\n",
    "for i in range(48,58):\n",
    "    randoms.append(chr(i))\n",
    "for i in range(65,91):\n",
    "    randoms.append(chr(i))\n",
    "for i in range(97,97+91-65):\n",
    "    randoms.append(chr(i))\n",
    "res = random.sample(randoms,6)  # 随机选取6的验证码\n",
    "res"
   ]
  },
  {
   "cell_type": "markdown",
   "metadata": {},
   "source": [
    "15.计算平方根"
   ]
  },
  {
   "cell_type": "code",
   "execution_count": 166,
   "metadata": {},
   "outputs": [
    {
     "data": {
      "text/plain": [
       "2.449489742783178"
      ]
     },
     "execution_count": 166,
     "metadata": {},
     "output_type": "execute_result"
    }
   ],
   "source": [
    "6**0.5"
   ]
  },
  {
   "cell_type": "markdown",
   "metadata": {},
   "source": [
    "17、判断字符串是否只由数字组成"
   ]
  },
  {
   "cell_type": "code",
   "execution_count": 173,
   "metadata": {},
   "outputs": [
    {
     "name": "stdout",
     "output_type": "stream",
     "text": [
      "False\n"
     ]
    }
   ],
   "source": [
    "char = '1202kkk'\n",
    "print char.isdigit()"
   ]
  },
  {
   "cell_type": "markdown",
   "metadata": {},
   "source": [
    "18、判断奇偶数"
   ]
  },
  {
   "cell_type": "code",
   "execution_count": 177,
   "metadata": {},
   "outputs": [
    {
     "name": "stdout",
     "output_type": "stream",
     "text": [
      "please inputs one digitial\n",
      "1\n",
      "奇数\n"
     ]
    }
   ],
   "source": [
    "inputs = input(\"please inputs one digitial\\n\")\n",
    "if inputs%2 == 0:\n",
    "    print \"偶数\"\n",
    "else:\n",
    "    print \"奇数\""
   ]
  },
  {
   "cell_type": "markdown",
   "metadata": {},
   "source": [
    "19.判断是不是闰年"
   ]
  },
  {
   "cell_type": "code",
   "execution_count": 180,
   "metadata": {},
   "outputs": [
    {
     "name": "stdout",
     "output_type": "stream",
     "text": [
      "input one year:\n",
      "2009\n",
      "NO\n"
     ]
    }
   ],
   "source": [
    "\"能被400整除 || 能被4整除且不能被100整除的年份\"\n",
    "i = input(\"input one year:\\n\")\n",
    "if (i%400 == 0) or (i%4 == 0 and i%100!=0):\n",
    "    print \"Yes\"\n",
    "else:\n",
    "    print \"NO\""
   ]
  },
  {
   "cell_type": "markdown",
   "metadata": {},
   "source": [
    "21、斐波那契数列"
   ]
  },
  {
   "cell_type": "code",
   "execution_count": 6,
   "metadata": {},
   "outputs": [
    {
     "name": "stdout",
     "output_type": "stream",
     "text": [
      "1 2 3 5\n"
     ]
    }
   ],
   "source": [
    "def FeiBonaqie(N):\n",
    "    n = 0\n",
    "    a,b = 0,1\n",
    "    while(n<N):\n",
    "        a,b = b,a+b\n",
    "        n   = n+1\n",
    "        print b,\n",
    "    #return b\n",
    "FeiBonaqie(4)"
   ]
  },
  {
   "cell_type": "markdown",
   "metadata": {},
   "source": [
    "22.十进制转二进制、八进制、十六进制"
   ]
  },
  {
   "cell_type": "code",
   "execution_count": 8,
   "metadata": {},
   "outputs": [
    {
     "name": "stdout",
     "output_type": "stream",
     "text": [
      "please inputs one digitial\n",
      "33\n",
      "十进制输出， 33\n",
      "八进制输出， 041\n",
      "二进制输出， 0b100001\n",
      "十六进制输出， 0x21\n"
     ]
    }
   ],
   "source": [
    "inputs = input(\"please inputs one digitial\\n\")\n",
    "print \"十进制输出，\",inputs\n",
    "print \"八进制输出，\",oct(inputs)\n",
    "print \"二进制输出，\",bin(inputs)\n",
    "print \"十六进制输出，\",hex(inputs)"
   ]
  },
  {
   "cell_type": "markdown",
   "metadata": {},
   "source": [
    "23.获取昨天的日期"
   ]
  },
  {
   "cell_type": "code",
   "execution_count": 16,
   "metadata": {},
   "outputs": [
    {
     "name": "stdout",
     "output_type": "stream",
     "text": [
      "2019-06-22\n"
     ]
    }
   ],
   "source": [
    "import datetime \n",
    "def findyesterday():\n",
    "    today  = datetime.date.today()\n",
    "    oneday = datetime.timedelta(days = 1)\n",
    "    return today - oneday\n",
    "print(findyesterday())"
   ]
  },
  {
   "cell_type": "markdown",
   "metadata": {},
   "source": [
    "29、计算每个月天数"
   ]
  },
  {
   "cell_type": "code",
   "execution_count": 23,
   "metadata": {},
   "outputs": [
    {
     "name": "stdout",
     "output_type": "stream",
     "text": [
      "(3, 30)\n"
     ]
    }
   ],
   "source": [
    "import calendar\n",
    "days = calendar.monthrange(2016,9)\n",
    "print days  # Return weekday (0-6 ~ Mon-Sun) and number of days (28-31)"
   ]
  },
  {
   "cell_type": "code",
   "execution_count": 24,
   "metadata": {},
   "outputs": [],
   "source": [
    "#help(calendar.monthrange)"
   ]
  },
  {
   "cell_type": "markdown",
   "metadata": {},
   "source": [
    "28、字符串大小写转换"
   ]
  },
  {
   "cell_type": "code",
   "execution_count": 43,
   "metadata": {},
   "outputs": [
    {
     "data": {
      "text/plain": [
       "False"
      ]
     },
     "execution_count": 43,
     "metadata": {},
     "output_type": "execute_result"
    }
   ],
   "source": [
    "str = 'https://blog.csdn.net/orangefly0214/article/details/81387077'\n",
    "str.capitalize()\n",
    "str.title()#\"首字母大写\"\n",
    "str.isdigit()  # 是否全部是数字\n",
    "str.isalnum()  # 是否全部是数字或者字母\n",
    "str.isspace()  # 是否全部死空白字符\n",
    "str.isalpha()  # 是不是全部都是字母"
   ]
  },
  {
   "cell_type": "markdown",
   "metadata": {},
   "source": [
    "26、文件IO"
   ]
  },
  {
   "cell_type": "code",
   "execution_count": 49,
   "metadata": {},
   "outputs": [
    {
     "name": "stdout",
     "output_type": "stream",
     "text": [
      "这是写入的内容，看到了吧\n"
     ]
    }
   ],
   "source": [
    "with open('./data/IO.txt','wb') as writefile:\n",
    "    writefile.write(\"这是写入的内容，看到了吧\")\n",
    "\n",
    "with open('./data/IO.txt','rb') as inputfile:\n",
    "    readtext = inputfile.read()\n",
    "\n",
    "print readtext"
   ]
  },
  {
   "cell_type": "markdown",
   "metadata": {},
   "source": [
    "27.生成日历"
   ]
  },
  {
   "cell_type": "code",
   "execution_count": 3,
   "metadata": {},
   "outputs": [
    {
     "name": "stdout",
     "output_type": "stream",
     "text": [
      "6L6T5YWl5bm05Lu977ya\n",
      "2019\n",
      "6L6T5YWl5pyI5Lu977ya\n",
      "6\n",
      "     June 2019\n",
      "Mo Tu We Th Fr Sa Su\n",
      "                1  2\n",
      " 3  4  5  6  7  8  9\n",
      "10 11 12 13 14 15 16\n",
      "17 18 19 20 21 22 23\n",
      "24 25 26 27 28 29 30\n",
      "\n"
     ]
    }
   ],
   "source": [
    "import calendar\n",
    "yy = int(input(\"输入年份：\"))\n",
    "mm = int(input(\"输入月份：\"))\n",
    "\n",
    "print(calendar.month(yy,mm))"
   ]
  },
  {
   "cell_type": "markdown",
   "metadata": {},
   "source": [
    "28.简单计算器"
   ]
  },
  {
   "cell_type": "code",
   "execution_count": 15,
   "metadata": {},
   "outputs": [
    {
     "name": "stdout",
     "output_type": "stream",
     "text": [
      "选择运算：\n",
      "1,相加\n",
      "2,相减\n",
      "3,相乘\n",
      "4.相除\n",
      "6K+36L6T5YWl5L2gIOeahOmAieaLqTogKDEvMi8zLzQpOg==\n",
      "1\n",
      "6L6T5YWl56ys5LiA5Liq5pWw5a2X77ya\n",
      "2\n",
      "6L6T5YWl56ys5LqM5Liq5pWw5a2XOiA=\n",
      "3\n",
      "2 + 3 = 5\n"
     ]
    }
   ],
   "source": [
    "def add(x,y): # adding x and y \n",
    "    return x+y\n",
    "def substract(x,y):\n",
    "    return x -y \n",
    "def multiply(x,y):\n",
    "    return x*y \n",
    "def divide(x,y):\n",
    "    return x/y\n",
    "\n",
    "# 用户输入：\n",
    "print(\"选择运算：\")\n",
    "print(\"1,相加\")\n",
    "print(\"2,相减\")\n",
    "print(\"3,相乘\")\n",
    "print(\"4.相除\")\n",
    "\n",
    "choice = input(\"请输入你 的选择: (1/2/3/4):\")\n",
    "nums1 = int(input(\"输入第一个数字：\"))\n",
    "nums2 = int(input(\"输入第二个数字: \"))\n",
    "\n",
    "if choice == 1:\n",
    "    print nums1,\"+\",nums2,\"=\",add(nums1,nums2)\n"
   ]
  },
  {
   "cell_type": "markdown",
   "metadata": {},
   "source": [
    "23、获取两个数的最小公倍数"
   ]
  },
  {
   "cell_type": "code",
   "execution_count": 19,
   "metadata": {},
   "outputs": [
    {
     "data": {
      "text/plain": [
       "6"
      ]
     },
     "execution_count": 19,
     "metadata": {},
     "output_type": "execute_result"
    }
   ],
   "source": [
    "def lcm(x,y):\n",
    "    if x>y:\n",
    "        greater = x\n",
    "    else:\n",
    "        greater = y \n",
    "        \n",
    "    while(True):\n",
    "        if(greater%y== 0) and (greater%x == 0):\n",
    "            res = greater\n",
    "            break \n",
    "        greater+=1\n",
    "    return greater\n",
    "\n",
    "lcm(3,6)"
   ]
  },
  {
   "cell_type": "markdown",
   "metadata": {},
   "source": [
    "24. 最大公约数"
   ]
  },
  {
   "cell_type": "code",
   "execution_count": 38,
   "metadata": {},
   "outputs": [
    {
     "data": {
      "text/plain": [
       "2"
      ]
     },
     "execution_count": 38,
     "metadata": {},
     "output_type": "execute_result"
    }
   ],
   "source": [
    "def func(x,y):\n",
    "    if x>y:\n",
    "        smaller = y\n",
    "    else:\n",
    "        smaller = x \n",
    "    \n",
    "    for i in range(0,smaller):\n",
    "        if(x%smaller == 0) and (y%smaller == 0):\n",
    "            break \n",
    "        smaller = smaller -1\n",
    "    return smaller\n",
    "\n",
    "func(22,40) "
   ]
  },
  {
   "cell_type": "code",
   "execution_count": null,
   "metadata": {},
   "outputs": [],
   "source": []
  }
 ],
 "metadata": {
  "kernelspec": {
   "display_name": "Python 3",
   "language": "python",
   "name": "python3"
  },
  "language_info": {
   "codemirror_mode": {
    "name": "ipython",
    "version": 3
   },
   "file_extension": ".py",
   "mimetype": "text/x-python",
   "name": "python",
   "nbconvert_exporter": "python",
   "pygments_lexer": "ipython3",
   "version": "3.7.4"
  }
 },
 "nbformat": 4,
 "nbformat_minor": 2
}
